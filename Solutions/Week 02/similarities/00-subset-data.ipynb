{
 "cells": [
  {
   "cell_type": "markdown",
   "id": "7c07ef1c",
   "metadata": {
    "pycharm": {
     "name": "#%% md\n"
    }
   },
   "source": [
    "# Preparing dataset\n",
    "\n",
    "We will use the BX-Book-Ratings dataset for this week's notebooks. Since the set is rather large, please subset it and save a copy so that you can use it later. \n",
    "\n",
    "Please filter out:\n",
    "\n",
    "* users that have less than 20 ratings\n",
    "* books that have less than 20 ratings\n"
   ]
  },
  {
   "cell_type": "code",
   "execution_count": 4,
   "id": "3882ad9d",
   "metadata": {
    "pycharm": {
     "name": "#%%\n"
    }
   },
   "outputs": [],
   "source": [
    "import pandas as pd\n",
    "df_books_ratings = pd.read_csv('./data/BX-Book-Ratings-Subset.csv', sep=';', encoding='latin-1')"
   ]
  },
  {
   "cell_type": "code",
   "execution_count": 5,
   "id": "a93bcdc4",
   "metadata": {
    "pycharm": {
     "name": "#%%\n"
    }
   },
   "outputs": [],
   "source": [
    "df = df_books_ratings\n",
    "\n",
    "df = df[df['Book-Rating'] != 0]\n",
    "\n",
    "# subset users (more than 20 reviews)\n",
    "x = df['User-ID'].value_counts() >= 20\n",
    "\n",
    "users = x[x].index \n",
    "\n",
    "df = df[df['User-ID'].isin(users)]\n",
    "\n",
    "# subset books (more than 20 reviews)\n",
    "x = df['ISBN'].value_counts() >= 20\n",
    "\n",
    "isbns = x[x].index \n",
    "\n",
    "df = df[df['ISBN'].isin(isbns)]"
   ]
  },
  {
   "cell_type": "code",
   "execution_count": 6,
   "outputs": [
    {
     "data": {
      "text/plain": "       User-ID        ISBN  Book-Rating\n359       4017  014028009X            9\n361       4017  0316096199           10\n362       4017  0316666343           10\n365       4017  0345443284           10\n369       4017  0375707972           10\n...        ...         ...          ...\n29908   276050  0385335881            9\n29914   276050  0553279912            7\n29916   276050  0671021001            9\n29917   276050  067102423X            8\n29918   276050  0679746048            7\n\n[3719 rows x 3 columns]",
      "text/html": "<div>\n<style scoped>\n    .dataframe tbody tr th:only-of-type {\n        vertical-align: middle;\n    }\n\n    .dataframe tbody tr th {\n        vertical-align: top;\n    }\n\n    .dataframe thead th {\n        text-align: right;\n    }\n</style>\n<table border=\"1\" class=\"dataframe\">\n  <thead>\n    <tr style=\"text-align: right;\">\n      <th></th>\n      <th>User-ID</th>\n      <th>ISBN</th>\n      <th>Book-Rating</th>\n    </tr>\n  </thead>\n  <tbody>\n    <tr>\n      <th>359</th>\n      <td>4017</td>\n      <td>014028009X</td>\n      <td>9</td>\n    </tr>\n    <tr>\n      <th>361</th>\n      <td>4017</td>\n      <td>0316096199</td>\n      <td>10</td>\n    </tr>\n    <tr>\n      <th>362</th>\n      <td>4017</td>\n      <td>0316666343</td>\n      <td>10</td>\n    </tr>\n    <tr>\n      <th>365</th>\n      <td>4017</td>\n      <td>0345443284</td>\n      <td>10</td>\n    </tr>\n    <tr>\n      <th>369</th>\n      <td>4017</td>\n      <td>0375707972</td>\n      <td>10</td>\n    </tr>\n    <tr>\n      <th>...</th>\n      <td>...</td>\n      <td>...</td>\n      <td>...</td>\n    </tr>\n    <tr>\n      <th>29908</th>\n      <td>276050</td>\n      <td>0385335881</td>\n      <td>9</td>\n    </tr>\n    <tr>\n      <th>29914</th>\n      <td>276050</td>\n      <td>0553279912</td>\n      <td>7</td>\n    </tr>\n    <tr>\n      <th>29916</th>\n      <td>276050</td>\n      <td>0671021001</td>\n      <td>9</td>\n    </tr>\n    <tr>\n      <th>29917</th>\n      <td>276050</td>\n      <td>067102423X</td>\n      <td>8</td>\n    </tr>\n    <tr>\n      <th>29918</th>\n      <td>276050</td>\n      <td>0679746048</td>\n      <td>7</td>\n    </tr>\n  </tbody>\n</table>\n<p>3719 rows × 3 columns</p>\n</div>"
     },
     "execution_count": 6,
     "metadata": {},
     "output_type": "execute_result"
    }
   ],
   "source": [
    "df"
   ],
   "metadata": {
    "collapsed": false,
    "pycharm": {
     "name": "#%%\n"
    }
   }
  },
  {
   "cell_type": "code",
   "execution_count": 5,
   "id": "df43c00a",
   "metadata": {
    "pycharm": {
     "name": "#%%\n"
    }
   },
   "outputs": [],
   "source": [
    "df.to_csv('data/BX-Book-Ratings-Subset.csv', index=False, sep=';')"
   ]
  }
 ],
 "metadata": {
  "kernelspec": {
   "display_name": "Python 3 (ipykernel)",
   "language": "python",
   "name": "python3"
  },
  "language_info": {
   "codemirror_mode": {
    "name": "ipython",
    "version": 3
   },
   "file_extension": ".py",
   "mimetype": "text/x-python",
   "name": "python",
   "nbconvert_exporter": "python",
   "pygments_lexer": "ipython3",
   "version": "3.9.6"
  }
 },
 "nbformat": 4,
 "nbformat_minor": 5
}