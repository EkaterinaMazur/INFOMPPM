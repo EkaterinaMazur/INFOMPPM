{
 "cells": [
  {
   "cell_type": "markdown",
   "id": "7c07ef1c",
   "metadata": {
    "pycharm": {
     "name": "#%% md\n"
    }
   },
   "source": [
    "# Preparing dataset\n",
    "\n",
    "We will use the BX-Book-Ratings dataset for this week's notebooks. Since the set is rather large, please subset it and save a copy so that you can use it later. \n",
    "\n",
    "Please filter out:\n",
    "\n",
    "* users that have less than 20 ratings\n",
    "* books that have less than 20 ratings\n"
   ]
  },
  {
   "cell_type": "code",
   "execution_count": 116,
   "id": "3882ad9d",
   "metadata": {
    "pycharm": {
     "name": "#%%\n"
    }
   },
   "outputs": [],
   "source": [
    "import pandas as pd\n",
    "df = pd.read_csv('./data/BX-Book-Ratings-Subset.csv', sep=';', encoding='latin-1')"
   ]
  },
  {
   "cell_type": "code",
   "execution_count": 121,
   "id": "a93bcdc4",
   "metadata": {
    "pycharm": {
     "name": "#%%\n"
    }
   },
   "outputs": [],
   "source": [
    "# code goes here\n",
    "\n",
    "df = df[df['Book-Rating'] != 0]\n",
    "\n",
    "# subset users (more than 20 reviews)\n",
    "x = df['User-ID'].value_counts() >= 20\n",
    "\n",
    "users = x[x].index\n",
    "\n",
    "df = df[df['User-ID'].isin(users)]\n",
    "\n",
    "# subset books (more than 20 reviews)\n",
    "x = df['ISBN'].value_counts() >= 20\n",
    "\n",
    "isbns = x[x].index\n",
    "\n",
    "df = df[df['ISBN'].isin(isbns)]"
   ]
  },
  {
   "cell_type": "code",
   "execution_count": null,
   "outputs": [],
   "source": [
    "#drop User-ID who have less than 20 review\n",
    "# df_2 = df.groupby('User-ID').count().sort_values('Book-Rating', ascending=False).reset_index()\n",
    "# #filter out users that have less than 20 ratings\n",
    "# df_2 = df_2[df_2['Book-Rating'] >= 20]\n",
    "# df_2"
   ],
   "metadata": {
    "collapsed": false,
    "pycharm": {
     "name": "#%%\n"
    }
   }
  },
  {
   "cell_type": "code",
   "execution_count": 119,
   "outputs": [
    {
     "data": {
      "text/plain": "           ISBN  User-ID  Book-Rating\n0    0316666343      265          265\n1    0385504209      207          207\n2    059035342X      153          153\n3    0312195516      152          152\n4    043935806X      136          136\n..          ...      ...          ...\n827  0786889020       20           20\n828  0670032379       20           20\n829  0399145087       20           20\n830  0140430725       20           20\n831  0440224624       20           20\n\n[832 rows x 3 columns]",
      "text/html": "<div>\n<style scoped>\n    .dataframe tbody tr th:only-of-type {\n        vertical-align: middle;\n    }\n\n    .dataframe tbody tr th {\n        vertical-align: top;\n    }\n\n    .dataframe thead th {\n        text-align: right;\n    }\n</style>\n<table border=\"1\" class=\"dataframe\">\n  <thead>\n    <tr style=\"text-align: right;\">\n      <th></th>\n      <th>ISBN</th>\n      <th>User-ID</th>\n      <th>Book-Rating</th>\n    </tr>\n  </thead>\n  <tbody>\n    <tr>\n      <th>0</th>\n      <td>0316666343</td>\n      <td>265</td>\n      <td>265</td>\n    </tr>\n    <tr>\n      <th>1</th>\n      <td>0385504209</td>\n      <td>207</td>\n      <td>207</td>\n    </tr>\n    <tr>\n      <th>2</th>\n      <td>059035342X</td>\n      <td>153</td>\n      <td>153</td>\n    </tr>\n    <tr>\n      <th>3</th>\n      <td>0312195516</td>\n      <td>152</td>\n      <td>152</td>\n    </tr>\n    <tr>\n      <th>4</th>\n      <td>043935806X</td>\n      <td>136</td>\n      <td>136</td>\n    </tr>\n    <tr>\n      <th>...</th>\n      <td>...</td>\n      <td>...</td>\n      <td>...</td>\n    </tr>\n    <tr>\n      <th>827</th>\n      <td>0786889020</td>\n      <td>20</td>\n      <td>20</td>\n    </tr>\n    <tr>\n      <th>828</th>\n      <td>0670032379</td>\n      <td>20</td>\n      <td>20</td>\n    </tr>\n    <tr>\n      <th>829</th>\n      <td>0399145087</td>\n      <td>20</td>\n      <td>20</td>\n    </tr>\n    <tr>\n      <th>830</th>\n      <td>0140430725</td>\n      <td>20</td>\n      <td>20</td>\n    </tr>\n    <tr>\n      <th>831</th>\n      <td>0440224624</td>\n      <td>20</td>\n      <td>20</td>\n    </tr>\n  </tbody>\n</table>\n<p>832 rows × 3 columns</p>\n</div>"
     },
     "execution_count": 119,
     "metadata": {},
     "output_type": "execute_result"
    }
   ],
   "source": [
    "#drop books that have less than 20 ratings\n",
    "# df_3 = df.groupby('ISBN').count().sort_values('Book-Rating', ascending=False).reset_index()\n",
    "# df_3 = df_3[df_3['Book-Rating'] >= 20]\n",
    "# df_3"
   ],
   "metadata": {
    "collapsed": false,
    "pycharm": {
     "name": "#%%\n"
    }
   }
  },
  {
   "cell_type": "code",
   "execution_count": 120,
   "outputs": [
    {
     "data": {
      "text/plain": "       User-ID        ISBN  Book-Rating\n355       4017  006000438X           10\n356       4017  0060915544            8\n357       4017  0060929871            9\n358       4017  0060930187           10\n359       4017  0060964049            9\n...        ...         ...          ...\n30068   276050  0553377868            7\n30069   276050  0671021001            9\n30070   276050  067102423X            8\n30071   276050  0679746048            7\n30072   276050  0679781587           10\n\n[11365 rows x 3 columns]",
      "text/html": "<div>\n<style scoped>\n    .dataframe tbody tr th:only-of-type {\n        vertical-align: middle;\n    }\n\n    .dataframe tbody tr th {\n        vertical-align: top;\n    }\n\n    .dataframe thead th {\n        text-align: right;\n    }\n</style>\n<table border=\"1\" class=\"dataframe\">\n  <thead>\n    <tr style=\"text-align: right;\">\n      <th></th>\n      <th>User-ID</th>\n      <th>ISBN</th>\n      <th>Book-Rating</th>\n    </tr>\n  </thead>\n  <tbody>\n    <tr>\n      <th>355</th>\n      <td>4017</td>\n      <td>006000438X</td>\n      <td>10</td>\n    </tr>\n    <tr>\n      <th>356</th>\n      <td>4017</td>\n      <td>0060915544</td>\n      <td>8</td>\n    </tr>\n    <tr>\n      <th>357</th>\n      <td>4017</td>\n      <td>0060929871</td>\n      <td>9</td>\n    </tr>\n    <tr>\n      <th>358</th>\n      <td>4017</td>\n      <td>0060930187</td>\n      <td>10</td>\n    </tr>\n    <tr>\n      <th>359</th>\n      <td>4017</td>\n      <td>0060964049</td>\n      <td>9</td>\n    </tr>\n    <tr>\n      <th>...</th>\n      <td>...</td>\n      <td>...</td>\n      <td>...</td>\n    </tr>\n    <tr>\n      <th>30068</th>\n      <td>276050</td>\n      <td>0553377868</td>\n      <td>7</td>\n    </tr>\n    <tr>\n      <th>30069</th>\n      <td>276050</td>\n      <td>0671021001</td>\n      <td>9</td>\n    </tr>\n    <tr>\n      <th>30070</th>\n      <td>276050</td>\n      <td>067102423X</td>\n      <td>8</td>\n    </tr>\n    <tr>\n      <th>30071</th>\n      <td>276050</td>\n      <td>0679746048</td>\n      <td>7</td>\n    </tr>\n    <tr>\n      <th>30072</th>\n      <td>276050</td>\n      <td>0679781587</td>\n      <td>10</td>\n    </tr>\n  </tbody>\n</table>\n<p>11365 rows × 3 columns</p>\n</div>"
     },
     "execution_count": 120,
     "metadata": {},
     "output_type": "execute_result"
    }
   ],
   "source": [
    "# final = df[df['User-ID'].isin(df_2['User-ID'])]\n",
    "# final_df = final[final['ISBN'].isin(df_3['ISBN'])]\n",
    "# #merge two dataframes on ISBN and User-ID\n",
    "# final_df"
   ],
   "metadata": {
    "collapsed": false,
    "pycharm": {
     "name": "#%%\n"
    }
   }
  },
  {
   "cell_type": "code",
   "execution_count": 122,
   "outputs": [],
   "source": [
    "df.to_csv('data/subset.csv', index=False, sep=';')"
   ],
   "metadata": {
    "collapsed": false,
    "pycharm": {
     "name": "#%%\n"
    }
   }
  }
 ],
 "metadata": {
  "kernelspec": {
   "display_name": "Python 3 (ipykernel)",
   "language": "python",
   "name": "python3"
  },
  "language_info": {
   "codemirror_mode": {
    "name": "ipython",
    "version": 3
   },
   "file_extension": ".py",
   "mimetype": "text/x-python",
   "name": "python",
   "nbconvert_exporter": "python",
   "pygments_lexer": "ipython3",
   "version": "3.9.2"
  }
 },
 "nbformat": 4,
 "nbformat_minor": 5
}