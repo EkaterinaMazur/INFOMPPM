{
 "cells": [
  {
   "cell_type": "markdown",
   "metadata": {
    "pycharm": {
     "name": "#%% md\n"
    }
   },
   "source": [
    "# Recommendations based on Jaccard index\n",
    "In this Notebook you will write the function that can be implemented in the Streamlit app. The actual code is already implemented in the streamlit app if you want to be inspired."
   ]
  },
  {
   "cell_type": "markdown",
   "metadata": {
    "pycharm": {
     "name": "#%% md\n"
    }
   },
   "source": [
    "### 1. Loading the data\n",
    "Load a subset from the ratings dataset."
   ]
  },
  {
   "cell_type": "code",
   "execution_count": 1,
   "metadata": {
    "pycharm": {
     "name": "#%%\n"
    }
   },
   "outputs": [],
   "source": [
    "import pandas as pd\n",
    "df = pd.read_csv('./data/BX-Book-Ratings-Subset.csv', sep=';', encoding='latin-1')"
   ]
  },
  {
   "cell_type": "code",
   "execution_count": 4,
   "outputs": [],
   "source": [
    "users = df.groupby('User-ID')['ISBN'].apply(list)"
   ],
   "metadata": {
    "collapsed": false,
    "pycharm": {
     "name": "#%%\n"
    }
   }
  },
  {
   "cell_type": "code",
   "execution_count": 6,
   "outputs": [
    {
     "data": {
      "text/plain": "<bound method Series.items of User-ID\n243       [0060915544, 0060977493, 0316601950, 031677696...\n254       [0064471047, 0142001740, 0380789035, 038097365...\n638       [0316603287, 0316666343, 0316693006, 031669320...\n805       [0060256672, 0060928336, 0140077022, 015602732...\n882       [0064401847, 0373218400, 0373484224, 038001817...\n                                ...                        \n278194    [0060926317, 0140280553, 0156011042, 034542313...\n278535    [0061094129, 0425178765, 0425182878, 044022159...\n278582    [0312980140, 0312983298, 0312983867, 031299045...\n278633    [0060987561, 0140244824, 014028009X, 014029629...\n278843    [0060173289, 0060517794, 014028009X, 014200020...\nName: ISBN, Length: 1826, dtype: object>"
     },
     "execution_count": 6,
     "metadata": {},
     "output_type": "execute_result"
    }
   ],
   "source": [
    "users.items"
   ],
   "metadata": {
    "collapsed": false,
    "pycharm": {
     "name": "#%%\n"
    }
   }
  },
  {
   "cell_type": "markdown",
   "metadata": {
    "pycharm": {
     "name": "#%% md\n"
    }
   },
   "source": [
    "### 2. Generating the recommendations"
   ]
  },
  {
   "cell_type": "code",
   "execution_count": null,
   "metadata": {
    "pycharm": {
     "name": "#%%\n"
    }
   },
   "outputs": [],
   "source": [
    "import itertools\n",
    "from scipy.spatial import distance\n",
    "\n",
    "# user we want to check\n",
    "id = 98783\n",
    "\n",
    "\n",
    "def get_jaccard_recommendations(id):\n",
    "  # create lists per user\n",
    "  users = df.groupby('User-ID')['ISBN'].apply(list)\n",
    "  \n",
    "  new_content = []\n",
    "  similar_users = []\n",
    "\n",
    "\n",
    "  for user, value in users.items():\n",
    "    similarity = distance.jaccard(user.value, id.value)\n",
    "    # intersection = len(user(set(value).intersection(id.value)))\n",
    "    # union = (len(user.value) + len(id.value) - intersection)\n",
    "    # return float(intersection) / union\n",
    "    \n",
    "    # tweak this parameter. Closer to 0.0 is more the same. 0.0 is the user.\n",
    "    if distance < 0.8 and distance != 0.0:\n",
    "      # get the differences in sets (ISBN) from the  selected user and user in the for-loop\n",
    "\n",
    "      # add these differences to new_content\n",
    "      new_content.append()\n",
    "      # code goes here\n",
    "\n",
    "      # add the user to similiar_users\n",
    "      # code goes here\n",
    "\n",
    "  # flatten the list with the sets\n",
    "  new_content = list(itertools.chain(*new_content))\n",
    "\n",
    "  # select the books\n",
    "  # code goes here\n",
    "\n",
    "  return df_recommendations\n",
    "\n",
    "get_jaccard_recommendations(id)\n"
   ]
  }
 ],
 "metadata": {
  "interpreter": {
   "hash": "37c10f95d263926787ebf1d430d11186fc6b9bac835b8518e0b5006ed24f0c36"
  },
  "kernelspec": {
   "display_name": "Python 3.8.0 64-bit",
   "language": "python",
   "name": "python3"
  },
  "language_info": {
   "codemirror_mode": {
    "name": "ipython",
    "version": 3
   },
   "file_extension": ".py",
   "mimetype": "text/x-python",
   "name": "python",
   "nbconvert_exporter": "python",
   "pygments_lexer": "ipython3",
   "version": "3.8.0"
  },
  "orig_nbformat": 4
 },
 "nbformat": 4,
 "nbformat_minor": 2
}