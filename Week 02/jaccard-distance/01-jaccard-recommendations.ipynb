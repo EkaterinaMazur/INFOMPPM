{
 "cells": [
  {
   "cell_type": "markdown",
   "metadata": {
    "pycharm": {
     "name": "#%% md\n"
    }
   },
   "source": [
    "# Recommendations based on Jaccard index\n",
    "In this Notebook you will write the function that can be implemented in the Streamlit app. The actual code is already implemented in the streamlit app if you want to be inspired."
   ]
  },
  {
   "cell_type": "markdown",
   "metadata": {
    "pycharm": {
     "name": "#%% md\n"
    }
   },
   "source": [
    "### 1. Loading the data\n",
    "Load a subset from the ratings dataset."
   ]
  },
  {
   "cell_type": "code",
   "execution_count": 2,
   "metadata": {
    "pycharm": {
     "name": "#%%\n"
    }
   },
   "outputs": [],
   "source": [
    "import pandas as pd\n",
    "df = pd.read_csv('./data/BX-Book-Ratings-Subset.csv', sep=';', encoding='latin-1')"
   ]
  },
  {
   "cell_type": "code",
   "execution_count": 3,
   "outputs": [
    {
     "data": {
      "text/plain": "User-ID\n243       [0060915544, 0060977493, 0316601950, 031677696...\n254       [0064471047, 0142001740, 0380789035, 038097365...\n638       [0316603287, 0316666343, 0316693006, 031669320...\n805       [0060256672, 0060928336, 0140077022, 015602732...\n882       [0064401847, 0373218400, 0373484224, 038001817...\n                                ...                        \n278194    [0060926317, 0140280553, 0156011042, 034542313...\n278535    [0061094129, 0425178765, 0425182878, 044022159...\n278582    [0312980140, 0312983298, 0312983867, 031299045...\n278633    [0060987561, 0140244824, 014028009X, 014029629...\n278843    [0060173289, 0060517794, 014028009X, 014200020...\nName: ISBN, Length: 1826, dtype: object"
     },
     "execution_count": 3,
     "metadata": {},
     "output_type": "execute_result"
    }
   ],
   "source": [
    "users = df.groupby('User-ID')['ISBN'].apply(list)\n",
    "users"
   ],
   "metadata": {
    "collapsed": false,
    "pycharm": {
     "name": "#%%\n"
    }
   }
  },
  {
   "cell_type": "code",
   "execution_count": 4,
   "outputs": [
    {
     "data": {
      "text/plain": "['0345313860',\n '0345334531',\n '0345337662',\n '0345339703',\n '0345351525',\n '034538475X',\n '0345397819',\n '0553262505',\n '0553583468',\n '0553584375']"
     },
     "execution_count": 4,
     "metadata": {},
     "output_type": "execute_result"
    }
   ],
   "source": [
    "users.items\n",
    "users[98783]"
   ],
   "metadata": {
    "collapsed": false,
    "pycharm": {
     "name": "#%%\n"
    }
   }
  },
  {
   "cell_type": "code",
   "execution_count": 8,
   "outputs": [],
   "source": [
    "from scipy.spatial import distance\n",
    "# id = 98783\n",
    "# for user, value in users.items():\n",
    "#     intersection = len(user(set(value).intersection(users[98783])))\n",
    "#     union = (len(user.value) + len(users[98783].value) - intersection)\n",
    "#     distance =  float(intersection) / union\n",
    "#     print(distance)"
   ],
   "metadata": {
    "collapsed": false,
    "pycharm": {
     "name": "#%%\n"
    }
   }
  },
  {
   "cell_type": "markdown",
   "metadata": {
    "pycharm": {
     "name": "#%% md\n"
    }
   },
   "source": [
    "### 2. Generating the recommendations"
   ]
  },
  {
   "cell_type": "code",
   "execution_count": 9,
   "metadata": {
    "pycharm": {
     "name": "#%%\n"
    }
   },
   "outputs": [
    {
     "name": "stdout",
     "output_type": "stream",
     "text": [
      "       User-ID        ISBN  Book-Rating\n",
      "290       2033  0060248025           10\n",
      "291       2033  0060256737           10\n",
      "292       2033  0140386645            8\n",
      "293       2033  0142000663           10\n",
      "295       2033  0439064864            9\n",
      "...        ...         ...          ...\n",
      "41054   276050  0553279912            7\n",
      "41055   276050  0553377868            7\n",
      "41056   276050  0671021001            9\n",
      "41057   276050  067102423X            8\n",
      "41058   276050  0679746048            7\n",
      "\n",
      "[8300 rows x 3 columns]\n"
     ]
    },
    {
     "data": {
      "text/plain": "       User-ID        ISBN  Book-Rating\n290       2033  0060248025           10\n291       2033  0060256737           10\n292       2033  0140386645            8\n293       2033  0142000663           10\n295       2033  0439064864            9\n...        ...         ...          ...\n41054   276050  0553279912            7\n41055   276050  0553377868            7\n41056   276050  0671021001            9\n41057   276050  067102423X            8\n41058   276050  0679746048            7\n\n[8300 rows x 3 columns]",
      "text/html": "<div>\n<style scoped>\n    .dataframe tbody tr th:only-of-type {\n        vertical-align: middle;\n    }\n\n    .dataframe tbody tr th {\n        vertical-align: top;\n    }\n\n    .dataframe thead th {\n        text-align: right;\n    }\n</style>\n<table border=\"1\" class=\"dataframe\">\n  <thead>\n    <tr style=\"text-align: right;\">\n      <th></th>\n      <th>User-ID</th>\n      <th>ISBN</th>\n      <th>Book-Rating</th>\n    </tr>\n  </thead>\n  <tbody>\n    <tr>\n      <th>290</th>\n      <td>2033</td>\n      <td>0060248025</td>\n      <td>10</td>\n    </tr>\n    <tr>\n      <th>291</th>\n      <td>2033</td>\n      <td>0060256737</td>\n      <td>10</td>\n    </tr>\n    <tr>\n      <th>292</th>\n      <td>2033</td>\n      <td>0140386645</td>\n      <td>8</td>\n    </tr>\n    <tr>\n      <th>293</th>\n      <td>2033</td>\n      <td>0142000663</td>\n      <td>10</td>\n    </tr>\n    <tr>\n      <th>295</th>\n      <td>2033</td>\n      <td>0439064864</td>\n      <td>9</td>\n    </tr>\n    <tr>\n      <th>...</th>\n      <td>...</td>\n      <td>...</td>\n      <td>...</td>\n    </tr>\n    <tr>\n      <th>41054</th>\n      <td>276050</td>\n      <td>0553279912</td>\n      <td>7</td>\n    </tr>\n    <tr>\n      <th>41055</th>\n      <td>276050</td>\n      <td>0553377868</td>\n      <td>7</td>\n    </tr>\n    <tr>\n      <th>41056</th>\n      <td>276050</td>\n      <td>0671021001</td>\n      <td>9</td>\n    </tr>\n    <tr>\n      <th>41057</th>\n      <td>276050</td>\n      <td>067102423X</td>\n      <td>8</td>\n    </tr>\n    <tr>\n      <th>41058</th>\n      <td>276050</td>\n      <td>0679746048</td>\n      <td>7</td>\n    </tr>\n  </tbody>\n</table>\n<p>8300 rows × 3 columns</p>\n</div>"
     },
     "execution_count": 9,
     "metadata": {},
     "output_type": "execute_result"
    }
   ],
   "source": [
    "import itertools\n",
    "from scipy.spatial import distance\n",
    "\n",
    "# user we want to check\n",
    "id = 98783\n",
    "\n",
    "\n",
    "def get_jaccard_recommendations(id):\n",
    "  # create lists per user\n",
    "  users = df.groupby('User-ID')['ISBN'].apply(list)\n",
    "  \n",
    "  new_content = []\n",
    "  similar_users = []\n",
    "\n",
    "  for user, value in users.items():\n",
    "    a = set(users[id])\n",
    "    b = set(users[user])\n",
    "    new = b.difference(a)\n",
    "\n",
    "    distances = float(len(a.intersection(b))) / len(a.union(b))\n",
    "\n",
    "    # distances = distance.jaccard(users[user], users[íd])\n",
    "    # intersection = len(user(set(value).intersection(users['íd'])))\n",
    "    # union = (len(user.value) + len(users['íd'].value) - intersection)\n",
    "    # distance =  float(intersection) / union\n",
    "    \n",
    "    # tweak this parameter. Closer to 0.0 is more the same. 0.0 is the user.\n",
    "    if distances < 0.8 and distances != 0.0:\n",
    "      #get the differences in sets (ISBN) from the  selected user and user in the for-loop\n",
    "      # add these differences to new_content\n",
    "      new_content.append(new)\n",
    "      similar_users.append(user)\n",
    "\n",
    "      # add the user to similiar_users\n",
    "      similar_users.append(user)\n",
    "\n",
    "  # flatten the list with the sets\n",
    "  new_content = list(itertools.chain(*new_content))\n",
    "\n",
    "  df_recommendations = df[df['User-ID'].isin(similar_users) & df['ISBN'].isin(new_content)]\n",
    "\n",
    "  df_recommendations.sort_values('Book-Rating', ascending=False)\n",
    "  print(df_recommendations)\n",
    "\n",
    "  return df_recommendations\n",
    "\n",
    "get_jaccard_recommendations(id)"
   ]
  },
  {
   "cell_type": "code",
   "execution_count": 10,
   "outputs": [
    {
     "name": "stdout",
     "output_type": "stream",
     "text": [
      "       User-ID        ISBN  Book-Rating\n",
      "290       2033  0060248025           10\n",
      "291       2033  0060256737           10\n",
      "292       2033  0140386645            8\n",
      "293       2033  0142000663           10\n",
      "295       2033  0439064864            9\n",
      "...        ...         ...          ...\n",
      "41054   276050  0553279912            7\n",
      "41055   276050  0553377868            7\n",
      "41056   276050  0671021001            9\n",
      "41057   276050  067102423X            8\n",
      "41058   276050  0679746048            7\n",
      "\n",
      "[8300 rows x 3 columns]\n"
     ]
    },
    {
     "data": {
      "text/plain": "       User-ID        ISBN  Book-Rating\n290       2033  0060248025           10\n291       2033  0060256737           10\n292       2033  0140386645            8\n293       2033  0142000663           10\n295       2033  0439064864            9\n...        ...         ...          ...\n41054   276050  0553279912            7\n41055   276050  0553377868            7\n41056   276050  0671021001            9\n41057   276050  067102423X            8\n41058   276050  0679746048            7\n\n[8300 rows x 3 columns]",
      "text/html": "<div>\n<style scoped>\n    .dataframe tbody tr th:only-of-type {\n        vertical-align: middle;\n    }\n\n    .dataframe tbody tr th {\n        vertical-align: top;\n    }\n\n    .dataframe thead th {\n        text-align: right;\n    }\n</style>\n<table border=\"1\" class=\"dataframe\">\n  <thead>\n    <tr style=\"text-align: right;\">\n      <th></th>\n      <th>User-ID</th>\n      <th>ISBN</th>\n      <th>Book-Rating</th>\n    </tr>\n  </thead>\n  <tbody>\n    <tr>\n      <th>290</th>\n      <td>2033</td>\n      <td>0060248025</td>\n      <td>10</td>\n    </tr>\n    <tr>\n      <th>291</th>\n      <td>2033</td>\n      <td>0060256737</td>\n      <td>10</td>\n    </tr>\n    <tr>\n      <th>292</th>\n      <td>2033</td>\n      <td>0140386645</td>\n      <td>8</td>\n    </tr>\n    <tr>\n      <th>293</th>\n      <td>2033</td>\n      <td>0142000663</td>\n      <td>10</td>\n    </tr>\n    <tr>\n      <th>295</th>\n      <td>2033</td>\n      <td>0439064864</td>\n      <td>9</td>\n    </tr>\n    <tr>\n      <th>...</th>\n      <td>...</td>\n      <td>...</td>\n      <td>...</td>\n    </tr>\n    <tr>\n      <th>41054</th>\n      <td>276050</td>\n      <td>0553279912</td>\n      <td>7</td>\n    </tr>\n    <tr>\n      <th>41055</th>\n      <td>276050</td>\n      <td>0553377868</td>\n      <td>7</td>\n    </tr>\n    <tr>\n      <th>41056</th>\n      <td>276050</td>\n      <td>0671021001</td>\n      <td>9</td>\n    </tr>\n    <tr>\n      <th>41057</th>\n      <td>276050</td>\n      <td>067102423X</td>\n      <td>8</td>\n    </tr>\n    <tr>\n      <th>41058</th>\n      <td>276050</td>\n      <td>0679746048</td>\n      <td>7</td>\n    </tr>\n  </tbody>\n</table>\n<p>8300 rows × 3 columns</p>\n</div>"
     },
     "execution_count": 10,
     "metadata": {},
     "output_type": "execute_result"
    }
   ],
   "source": [
    "get_jaccard_recommendations(98783)"
   ],
   "metadata": {
    "collapsed": false,
    "pycharm": {
     "name": "#%%\n"
    }
   }
  },
  {
   "cell_type": "code",
   "execution_count": null,
   "outputs": [],
   "source": [],
   "metadata": {
    "collapsed": false,
    "pycharm": {
     "name": "#%%\n"
    }
   }
  }
 ],
 "metadata": {
  "interpreter": {
   "hash": "37c10f95d263926787ebf1d430d11186fc6b9bac835b8518e0b5006ed24f0c36"
  },
  "kernelspec": {
   "display_name": "Python 3.8.0 64-bit",
   "language": "python",
   "name": "python3"
  },
  "language_info": {
   "codemirror_mode": {
    "name": "ipython",
    "version": 3
   },
   "file_extension": ".py",
   "mimetype": "text/x-python",
   "name": "python",
   "nbconvert_exporter": "python",
   "pygments_lexer": "ipython3",
   "version": "3.8.0"
  },
  "orig_nbformat": 4
 },
 "nbformat": 4,
 "nbformat_minor": 2
}