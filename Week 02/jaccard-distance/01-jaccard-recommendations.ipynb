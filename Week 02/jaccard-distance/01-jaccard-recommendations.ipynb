{
 "cells": [
  {
   "cell_type": "markdown",
   "metadata": {
    "pycharm": {
     "name": "#%% md\n"
    }
   },
   "source": [
    "# Recommendations based on Jaccard index\n",
    "In this Notebook you will write the function that can be implemented in the Streamlit app. The actual code is already implemented in the streamlit app if you want to be inspired."
   ]
  },
  {
   "cell_type": "markdown",
   "metadata": {
    "pycharm": {
     "name": "#%% md\n"
    }
   },
   "source": [
    "### 1. Loading the data\n",
    "Load a subset from the ratings dataset."
   ]
  },
  {
   "cell_type": "code",
   "execution_count": 2,
   "metadata": {
    "pycharm": {
     "name": "#%%\n"
    }
   },
   "outputs": [],
   "source": [
    "import pandas as pd\n",
    "df = pd.read_csv('./data/BX-Book-Ratings-Subset.csv', sep=';', encoding='latin-1')"
   ]
  },
  {
   "cell_type": "code",
   "execution_count": 46,
   "outputs": [
    {
     "data": {
      "text/plain": "User-ID\n243       [0060915544, 0060977493, 0316601950, 031677696...\n254       [0064471047, 0142001740, 0380789035, 038097365...\n638       [0316603287, 0316666343, 0316693006, 031669320...\n805       [0060256672, 0060928336, 0140077022, 015602732...\n882       [0064401847, 0373218400, 0373484224, 038001817...\n                                ...                        \n278194    [0060926317, 0140280553, 0156011042, 034542313...\n278535    [0061094129, 0425178765, 0425182878, 044022159...\n278582    [0312980140, 0312983298, 0312983867, 031299045...\n278633    [0060987561, 0140244824, 014028009X, 014029629...\n278843    [0060173289, 0060517794, 014028009X, 014200020...\nName: ISBN, Length: 1826, dtype: object"
     },
     "execution_count": 46,
     "metadata": {},
     "output_type": "execute_result"
    }
   ],
   "source": [
    "users = df.groupby('User-ID')['ISBN'].apply(list)\n",
    "users"
   ],
   "metadata": {
    "collapsed": false,
    "pycharm": {
     "name": "#%%\n"
    }
   }
  },
  {
   "cell_type": "code",
   "execution_count": 48,
   "outputs": [
    {
     "data": {
      "text/plain": "['0345313860',\n '0345334531',\n '0345337662',\n '0345339703',\n '0345351525',\n '034538475X',\n '0345397819',\n '0553262505',\n '0553583468',\n '0553584375']"
     },
     "execution_count": 48,
     "metadata": {},
     "output_type": "execute_result"
    }
   ],
   "source": [
    "users.items\n",
    "users[98783]"
   ],
   "metadata": {
    "collapsed": false,
    "pycharm": {
     "name": "#%%\n"
    }
   }
  },
  {
   "cell_type": "code",
   "execution_count": 49,
   "outputs": [
    {
     "ename": "TypeError",
     "evalue": "'int' object is not callable",
     "output_type": "error",
     "traceback": [
      "\u001B[0;31m---------------------------------------------------------------------------\u001B[0m",
      "\u001B[0;31mTypeError\u001B[0m                                 Traceback (most recent call last)",
      "\u001B[0;32m/var/folders/x6/923dwt55237392mlk00827nh0000gn/T/ipykernel_18344/4149489819.py\u001B[0m in \u001B[0;36m<module>\u001B[0;34m\u001B[0m\n\u001B[1;32m      2\u001B[0m \u001B[0;31m# id = 98783\u001B[0m\u001B[0;34m\u001B[0m\u001B[0;34m\u001B[0m\u001B[0m\n\u001B[1;32m      3\u001B[0m \u001B[0;32mfor\u001B[0m \u001B[0muser\u001B[0m\u001B[0;34m,\u001B[0m \u001B[0mvalue\u001B[0m \u001B[0;32min\u001B[0m \u001B[0musers\u001B[0m\u001B[0;34m.\u001B[0m\u001B[0mitems\u001B[0m\u001B[0;34m(\u001B[0m\u001B[0;34m)\u001B[0m\u001B[0;34m:\u001B[0m\u001B[0;34m\u001B[0m\u001B[0;34m\u001B[0m\u001B[0m\n\u001B[0;32m----> 4\u001B[0;31m     \u001B[0mintersection\u001B[0m \u001B[0;34m=\u001B[0m \u001B[0mlen\u001B[0m\u001B[0;34m(\u001B[0m\u001B[0muser\u001B[0m\u001B[0;34m(\u001B[0m\u001B[0mset\u001B[0m\u001B[0;34m(\u001B[0m\u001B[0mvalue\u001B[0m\u001B[0;34m)\u001B[0m\u001B[0;34m.\u001B[0m\u001B[0mintersection\u001B[0m\u001B[0;34m(\u001B[0m\u001B[0musers\u001B[0m\u001B[0;34m[\u001B[0m\u001B[0;36m98783\u001B[0m\u001B[0;34m]\u001B[0m\u001B[0;34m)\u001B[0m\u001B[0;34m)\u001B[0m\u001B[0;34m)\u001B[0m\u001B[0;34m\u001B[0m\u001B[0;34m\u001B[0m\u001B[0m\n\u001B[0m\u001B[1;32m      5\u001B[0m     \u001B[0munion\u001B[0m \u001B[0;34m=\u001B[0m \u001B[0;34m(\u001B[0m\u001B[0mlen\u001B[0m\u001B[0;34m(\u001B[0m\u001B[0muser\u001B[0m\u001B[0;34m.\u001B[0m\u001B[0mvalue\u001B[0m\u001B[0;34m)\u001B[0m \u001B[0;34m+\u001B[0m \u001B[0mlen\u001B[0m\u001B[0;34m(\u001B[0m\u001B[0musers\u001B[0m\u001B[0;34m[\u001B[0m\u001B[0;36m98783\u001B[0m\u001B[0;34m]\u001B[0m\u001B[0;34m.\u001B[0m\u001B[0mvalue\u001B[0m\u001B[0;34m)\u001B[0m \u001B[0;34m-\u001B[0m \u001B[0mintersection\u001B[0m\u001B[0;34m)\u001B[0m\u001B[0;34m\u001B[0m\u001B[0;34m\u001B[0m\u001B[0m\n\u001B[1;32m      6\u001B[0m     \u001B[0mdistance\u001B[0m \u001B[0;34m=\u001B[0m  \u001B[0mfloat\u001B[0m\u001B[0;34m(\u001B[0m\u001B[0mintersection\u001B[0m\u001B[0;34m)\u001B[0m \u001B[0;34m/\u001B[0m \u001B[0munion\u001B[0m\u001B[0;34m\u001B[0m\u001B[0;34m\u001B[0m\u001B[0m\n",
      "\u001B[0;31mTypeError\u001B[0m: 'int' object is not callable"
     ]
    }
   ],
   "source": [
    "from scipy.spatial import distance\n",
    "# id = 98783\n",
    "for user, value in users.items():\n",
    "    intersection = len(user(set(value).intersection(users[98783])))\n",
    "    union = (len(user.value) + len(users[98783].value) - intersection)\n",
    "    distance =  float(intersection) / union\n",
    "    print(distance)"
   ],
   "metadata": {
    "collapsed": false,
    "pycharm": {
     "name": "#%%\n"
    }
   }
  },
  {
   "cell_type": "markdown",
   "metadata": {
    "pycharm": {
     "name": "#%% md\n"
    }
   },
   "source": [
    "### 2. Generating the recommendations"
   ]
  },
  {
   "cell_type": "code",
   "execution_count": 28,
   "metadata": {
    "pycharm": {
     "name": "#%%\n"
    }
   },
   "outputs": [],
   "source": [
    "import itertools\n",
    "from scipy.spatial import distance\n",
    "\n",
    "# user we want to check\n",
    "id = 98783\n",
    "\n",
    "\n",
    "def get_jaccard_recommendations(id):\n",
    "  # create lists per user\n",
    "  users = df.groupby('User-ID')['ISBN'].apply(list)\n",
    "  \n",
    "  new_content = []\n",
    "  similar_users = []\n",
    "\n",
    "  for user, value in users.items():\n",
    "    distances = distance.jaccard(users[user], users[íd])\n",
    "    # intersection = len(user(set(value).intersection(users['íd'])))\n",
    "    # union = (len(user.value) + len(users['íd'].value) - intersection)\n",
    "    # distance =  float(intersection) / union\n",
    "    \n",
    "    # tweak this parameter. Closer to 0.0 is more the same. 0.0 is the user.\n",
    "    if distances < 0.8 and distances != 0.0:\n",
    "      #get the differences in sets (ISBN) from the  selected user and user in the for-loop\n",
    "      # add these differences to new_content\n",
    "      new_content.append(distance)\n",
    "\n",
    "      # add the user to similiar_users\n",
    "      similar_users.append(user)\n",
    "\n",
    "  # flatten the list with the sets\n",
    "  new_content = list(itertools.chain(*new_content))\n",
    "\n",
    "  # select the books\n",
    "  df_recommendations = new_content\n",
    "\n",
    "  return df_recommendations\n",
    "\n"
   ]
  },
  {
   "cell_type": "code",
   "execution_count": 29,
   "outputs": [
    {
     "ename": "NameError",
     "evalue": "name 'íd' is not defined",
     "output_type": "error",
     "traceback": [
      "\u001B[0;31m---------------------------------------------------------------------------\u001B[0m",
      "\u001B[0;31mNameError\u001B[0m                                 Traceback (most recent call last)",
      "\u001B[0;32m/var/folders/x6/923dwt55237392mlk00827nh0000gn/T/ipykernel_18344/3241537571.py\u001B[0m in \u001B[0;36m<module>\u001B[0;34m\u001B[0m\n\u001B[0;32m----> 1\u001B[0;31m \u001B[0mget_jaccard_recommendations\u001B[0m\u001B[0;34m(\u001B[0m\u001B[0;36m98783\u001B[0m\u001B[0;34m)\u001B[0m\u001B[0;34m\u001B[0m\u001B[0;34m\u001B[0m\u001B[0m\n\u001B[0m",
      "\u001B[0;32m/var/folders/x6/923dwt55237392mlk00827nh0000gn/T/ipykernel_18344/1315859765.py\u001B[0m in \u001B[0;36mget_jaccard_recommendations\u001B[0;34m(id)\u001B[0m\n\u001B[1;32m     16\u001B[0m   \u001B[0;32mfor\u001B[0m \u001B[0muser\u001B[0m\u001B[0;34m,\u001B[0m \u001B[0mvalue\u001B[0m \u001B[0;32min\u001B[0m \u001B[0musers\u001B[0m\u001B[0;34m.\u001B[0m\u001B[0mitems\u001B[0m\u001B[0;34m(\u001B[0m\u001B[0;34m)\u001B[0m\u001B[0;34m:\u001B[0m\u001B[0;34m\u001B[0m\u001B[0;34m\u001B[0m\u001B[0m\n\u001B[1;32m     17\u001B[0m     \u001B[0mid\u001B[0m \u001B[0;34m=\u001B[0m \u001B[0mid\u001B[0m\u001B[0;34m\u001B[0m\u001B[0;34m\u001B[0m\u001B[0m\n\u001B[0;32m---> 18\u001B[0;31m     \u001B[0mdistances\u001B[0m \u001B[0;34m=\u001B[0m \u001B[0mdistance\u001B[0m\u001B[0;34m.\u001B[0m\u001B[0mjaccard\u001B[0m\u001B[0;34m(\u001B[0m\u001B[0musers\u001B[0m\u001B[0;34m[\u001B[0m\u001B[0muser\u001B[0m\u001B[0;34m]\u001B[0m\u001B[0;34m,\u001B[0m \u001B[0musers\u001B[0m\u001B[0;34m[\u001B[0m\u001B[0míd\u001B[0m\u001B[0;34m]\u001B[0m\u001B[0;34m)\u001B[0m\u001B[0;34m\u001B[0m\u001B[0;34m\u001B[0m\u001B[0m\n\u001B[0m\u001B[1;32m     19\u001B[0m     \u001B[0;31m# intersection = len(user(set(value).intersection(users['íd'])))\u001B[0m\u001B[0;34m\u001B[0m\u001B[0;34m\u001B[0m\u001B[0m\n\u001B[1;32m     20\u001B[0m     \u001B[0;31m# union = (len(user.value) + len(users['íd'].value) - intersection)\u001B[0m\u001B[0;34m\u001B[0m\u001B[0;34m\u001B[0m\u001B[0m\n",
      "\u001B[0;31mNameError\u001B[0m: name 'íd' is not defined"
     ]
    }
   ],
   "source": [
    "get_jaccard_recommendations(98783)"
   ],
   "metadata": {
    "collapsed": false,
    "pycharm": {
     "name": "#%%\n"
    }
   }
  },
  {
   "cell_type": "code",
   "execution_count": null,
   "outputs": [],
   "source": [],
   "metadata": {
    "collapsed": false,
    "pycharm": {
     "name": "#%%\n"
    }
   }
  }
 ],
 "metadata": {
  "interpreter": {
   "hash": "37c10f95d263926787ebf1d430d11186fc6b9bac835b8518e0b5006ed24f0c36"
  },
  "kernelspec": {
   "display_name": "Python 3.8.0 64-bit",
   "language": "python",
   "name": "python3"
  },
  "language_info": {
   "codemirror_mode": {
    "name": "ipython",
    "version": 3
   },
   "file_extension": ".py",
   "mimetype": "text/x-python",
   "name": "python",
   "nbconvert_exporter": "python",
   "pygments_lexer": "ipython3",
   "version": "3.8.0"
  },
  "orig_nbformat": 4
 },
 "nbformat": 4,
 "nbformat_minor": 2
}