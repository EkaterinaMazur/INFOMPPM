{
 "cells": [
  {
   "attachments": {},
   "cell_type": "markdown",
   "metadata": {
    "pycharm": {
     "name": "#%% md\n"
    }
   },
   "source": [
    "\n",
    "# 📚 Recommendations based on Frequently Reviewed Together (frequency)\n",
    "An excellent way to give quick recommendations is based on Frequently Bought Together or, in this case, Frequently Reviewed Together. A way to create combinations is with `permutations` from `itertools`. For instance, the code below creates combinations from items occurring in a list.\n"
   ]
  },
  {
   "cell_type": "markdown",
   "metadata": {
    "pycharm": {
     "name": "#%% md\n"
    }
   },
   "source": [
    "### 1. Quick introduction to permutations"
   ]
  },
  {
   "cell_type": "code",
   "execution_count": 2,
   "metadata": {
    "pycharm": {
     "name": "#%%\n"
    }
   },
   "outputs": [
    {
     "data": {
      "text/plain": "[('milk', 'bread'),\n ('milk', 'eggs'),\n ('bread', 'milk'),\n ('bread', 'eggs'),\n ('eggs', 'milk'),\n ('eggs', 'bread')]"
     },
     "execution_count": 2,
     "metadata": {},
     "output_type": "execute_result"
    }
   ],
   "source": [
    "from itertools import permutations \n",
    "\n",
    "# items bought together\n",
    "items = ['milk', 'bread', 'eggs']\n",
    "\n",
    "# this code creates sets of 2 items from the itemset above\n",
    "list(permutations(items, 2))"
   ]
  },
  {
   "cell_type": "markdown",
   "metadata": {
    "pycharm": {
     "name": "#%% md\n"
    }
   },
   "source": [
    "### 2. Count the combinations of books reviewed together\n",
    "Create combinations with `permutations` and count the occurrences. Depending on your selection in the exploration step, this can take a while."
   ]
  },
  {
   "cell_type": "code",
   "execution_count": 3,
   "outputs": [],
   "source": [
    "import pandas as pd"
   ],
   "metadata": {
    "collapsed": false,
    "pycharm": {
     "name": "#%%\n"
    }
   }
  },
  {
   "cell_type": "code",
   "execution_count": null,
   "outputs": [],
   "source": [
    "# reading the file\n",
    "ratings = pd.read_csv('/Users/ekaterinamazur/PycharmProjects/INFOMPPM1/Week 01/data/ratings.csv')\n",
    "ratings.head()"
   ],
   "metadata": {
    "collapsed": false,
    "pycharm": {
     "name": "#%%\n"
    }
   }
  },
  {
   "cell_type": "code",
   "execution_count": 36,
   "outputs": [
    {
     "data": {
      "text/plain": "        User-ID  level_1           a           b\n0           507        0  0140230165  0553564528\n1           507        1  0140230165  0553575538\n2           507        2  0140230165  055357695X\n3           507        3  0140230165  0553583441\n4           507        4  0140230165  0553583468\n...         ...      ...         ...         ...\n516305   278843       25  0786881852  0060173289\n516306   278843       26  0786881852  0142000205\n516307   278843       27  0786881852  0553274503\n516308   278843       28  0786881852  0679412956\n516309   278843       29  0786881852  0767902890\n\n[516310 rows x 4 columns]",
      "text/html": "<div>\n<style scoped>\n    .dataframe tbody tr th:only-of-type {\n        vertical-align: middle;\n    }\n\n    .dataframe tbody tr th {\n        vertical-align: top;\n    }\n\n    .dataframe thead th {\n        text-align: right;\n    }\n</style>\n<table border=\"1\" class=\"dataframe\">\n  <thead>\n    <tr style=\"text-align: right;\">\n      <th></th>\n      <th>User-ID</th>\n      <th>level_1</th>\n      <th>a</th>\n      <th>b</th>\n    </tr>\n  </thead>\n  <tbody>\n    <tr>\n      <th>0</th>\n      <td>507</td>\n      <td>0</td>\n      <td>0140230165</td>\n      <td>0553564528</td>\n    </tr>\n    <tr>\n      <th>1</th>\n      <td>507</td>\n      <td>1</td>\n      <td>0140230165</td>\n      <td>0553575538</td>\n    </tr>\n    <tr>\n      <th>2</th>\n      <td>507</td>\n      <td>2</td>\n      <td>0140230165</td>\n      <td>055357695X</td>\n    </tr>\n    <tr>\n      <th>3</th>\n      <td>507</td>\n      <td>3</td>\n      <td>0140230165</td>\n      <td>0553583441</td>\n    </tr>\n    <tr>\n      <th>4</th>\n      <td>507</td>\n      <td>4</td>\n      <td>0140230165</td>\n      <td>0553583468</td>\n    </tr>\n    <tr>\n      <th>...</th>\n      <td>...</td>\n      <td>...</td>\n      <td>...</td>\n      <td>...</td>\n    </tr>\n    <tr>\n      <th>516305</th>\n      <td>278843</td>\n      <td>25</td>\n      <td>0786881852</td>\n      <td>0060173289</td>\n    </tr>\n    <tr>\n      <th>516306</th>\n      <td>278843</td>\n      <td>26</td>\n      <td>0786881852</td>\n      <td>0142000205</td>\n    </tr>\n    <tr>\n      <th>516307</th>\n      <td>278843</td>\n      <td>27</td>\n      <td>0786881852</td>\n      <td>0553274503</td>\n    </tr>\n    <tr>\n      <th>516308</th>\n      <td>278843</td>\n      <td>28</td>\n      <td>0786881852</td>\n      <td>0679412956</td>\n    </tr>\n    <tr>\n      <th>516309</th>\n      <td>278843</td>\n      <td>29</td>\n      <td>0786881852</td>\n      <td>0767902890</td>\n    </tr>\n  </tbody>\n</table>\n<p>516310 rows × 4 columns</p>\n</div>"
     },
     "execution_count": 36,
     "metadata": {},
     "output_type": "execute_result"
    }
   ],
   "source": [
    "#getting permutations\n",
    "\n",
    "permutation_two = (ratings\n",
    "                .groupby('User-ID')\n",
    "                .apply(lambda x: pd.DataFrame(list(permutations(x['ISBN'], 2))))\n",
    "                .reset_index())\n",
    "permutation_two.columns.values[2] = \"a\"\n",
    "permutation_two.columns.values[3] = \"b\"\n",
    "permutation_two"
   ],
   "metadata": {
    "collapsed": false,
    "pycharm": {
     "name": "#%%\n"
    }
   }
  },
  {
   "cell_type": "code",
   "execution_count": 45,
   "outputs": [
    {
     "data": {
      "text/plain": "                 a           b  User-ID  level_1\n195957  0446672211  0316666343       32       32\n47097   0312966970  0671001795       32       32\n279267  0671001795  0312966970       32       32\n55593   0316666343  0446672211       32       32\n70743   034538475X  0345313860       30       30",
      "text/html": "<div>\n<style scoped>\n    .dataframe tbody tr th:only-of-type {\n        vertical-align: middle;\n    }\n\n    .dataframe tbody tr th {\n        vertical-align: top;\n    }\n\n    .dataframe thead th {\n        text-align: right;\n    }\n</style>\n<table border=\"1\" class=\"dataframe\">\n  <thead>\n    <tr style=\"text-align: right;\">\n      <th></th>\n      <th>a</th>\n      <th>b</th>\n      <th>User-ID</th>\n      <th>level_1</th>\n    </tr>\n  </thead>\n  <tbody>\n    <tr>\n      <th>195957</th>\n      <td>0446672211</td>\n      <td>0316666343</td>\n      <td>32</td>\n      <td>32</td>\n    </tr>\n    <tr>\n      <th>47097</th>\n      <td>0312966970</td>\n      <td>0671001795</td>\n      <td>32</td>\n      <td>32</td>\n    </tr>\n    <tr>\n      <th>279267</th>\n      <td>0671001795</td>\n      <td>0312966970</td>\n      <td>32</td>\n      <td>32</td>\n    </tr>\n    <tr>\n      <th>55593</th>\n      <td>0316666343</td>\n      <td>0446672211</td>\n      <td>32</td>\n      <td>32</td>\n    </tr>\n    <tr>\n      <th>70743</th>\n      <td>034538475X</td>\n      <td>0345313860</td>\n      <td>30</td>\n      <td>30</td>\n    </tr>\n  </tbody>\n</table>\n</div>"
     },
     "execution_count": 45,
     "metadata": {},
     "output_type": "execute_result"
    }
   ],
   "source": [
    "#getting top-10 for each ISBN\n",
    "df_new = permutation_two.groupby(['a','b']).aggregate('count').reset_index().sort_values('User-ID', ascending = False)\n",
    "df_new.head()"
   ],
   "metadata": {
    "collapsed": false,
    "pycharm": {
     "name": "#%%\n"
    }
   }
  },
  {
   "cell_type": "code",
   "execution_count": 47,
   "outputs": [
    {
     "data": {
      "text/plain": "(10500, 3)"
     },
     "execution_count": 47,
     "metadata": {},
     "output_type": "execute_result"
    }
   ],
   "source": [
    "# rename a and b to book_a and book_b, choosing the right columns\n",
    "df_final_10= df_new.iloc [:, [0, 1,2]]\n",
    "recommend_by_pemutation =  df_final_10.rename(columns={'a': 'book_a', 'b':'book_b', 'User-ID':'count'})\n",
    "recommend_by_pemutation  = recommend_by_pemutation.groupby('book_a').head(10)\n",
    "recommend_by_pemutation.shape"
   ],
   "metadata": {
    "collapsed": false,
    "pycharm": {
     "name": "#%%\n"
    }
   }
  },
  {
   "cell_type": "code",
   "execution_count": 48,
   "outputs": [
    {
     "data": {
      "text/plain": "            book_a      book_b  count\n195957  0446672211  0316666343     32\n47097   0312966970  0671001795     32\n279267  0671001795  0312966970     32\n55593   0316666343  0446672211     32\n70743   034538475X  0345313860     30",
      "text/html": "<div>\n<style scoped>\n    .dataframe tbody tr th:only-of-type {\n        vertical-align: middle;\n    }\n\n    .dataframe tbody tr th {\n        vertical-align: top;\n    }\n\n    .dataframe thead th {\n        text-align: right;\n    }\n</style>\n<table border=\"1\" class=\"dataframe\">\n  <thead>\n    <tr style=\"text-align: right;\">\n      <th></th>\n      <th>book_a</th>\n      <th>book_b</th>\n      <th>count</th>\n    </tr>\n  </thead>\n  <tbody>\n    <tr>\n      <th>195957</th>\n      <td>0446672211</td>\n      <td>0316666343</td>\n      <td>32</td>\n    </tr>\n    <tr>\n      <th>47097</th>\n      <td>0312966970</td>\n      <td>0671001795</td>\n      <td>32</td>\n    </tr>\n    <tr>\n      <th>279267</th>\n      <td>0671001795</td>\n      <td>0312966970</td>\n      <td>32</td>\n    </tr>\n    <tr>\n      <th>55593</th>\n      <td>0316666343</td>\n      <td>0446672211</td>\n      <td>32</td>\n    </tr>\n    <tr>\n      <th>70743</th>\n      <td>034538475X</td>\n      <td>0345313860</td>\n      <td>30</td>\n    </tr>\n  </tbody>\n</table>\n</div>"
     },
     "execution_count": 48,
     "metadata": {},
     "output_type": "execute_result"
    }
   ],
   "source": [
    "recommend_by_pemutation.head()"
   ],
   "metadata": {
    "collapsed": false,
    "pycharm": {
     "name": "#%%\n"
    }
   }
  },
  {
   "cell_type": "markdown",
   "metadata": {
    "pycharm": {
     "name": "#%% md\n"
    }
   },
   "source": [
    "### 3. Save the recommendations\n",
    "You can see that this will be a large file. Since we only need the top 10 of any given book, make sure the CSV file only contains 10 recommendations per book. Save the recommendations as `recommendations-seeded-freq.csv` and replace the file in the app directory. Do not forget to uncomment the block of code connected to this step. \n"
   ]
  },
  {
   "cell_type": "code",
   "execution_count": 44,
   "outputs": [],
   "source": [
    "recommend_by_pemutation.to_csv('recommendations-seeded-freq.csv', sep=';', index=False)"
   ],
   "metadata": {
    "collapsed": false,
    "pycharm": {
     "name": "#%%\n"
    }
   }
  }
 ],
 "metadata": {
  "interpreter": {
   "hash": "37c10f95d263926787ebf1d430d11186fc6b9bac835b8518e0b5006ed24f0c36"
  },
  "kernelspec": {
   "display_name": "Python 3.8.0 64-bit",
   "language": "python",
   "name": "python3"
  },
  "language_info": {
   "codemirror_mode": {
    "name": "ipython",
    "version": 3
   },
   "file_extension": ".py",
   "mimetype": "text/x-python",
   "name": "python",
   "nbconvert_exporter": "python",
   "pygments_lexer": "ipython3",
   "version": "3.8.0"
  },
  "orig_nbformat": 4
 },
 "nbformat": 4,
 "nbformat_minor": 2
}