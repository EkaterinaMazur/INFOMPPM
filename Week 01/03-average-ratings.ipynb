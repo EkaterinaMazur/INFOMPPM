{
 "cells": [
  {
   "attachments": {},
   "cell_type": "markdown",
   "metadata": {
    "pycharm": {
     "name": "#%% md\n"
    }
   },
   "source": [
    "# 📚 Recommendations based on average ratings\n",
    "You are going to create your first recommenations based on average ratings."
   ]
  },
  {
   "cell_type": "markdown",
   "metadata": {
    "pycharm": {
     "name": "#%% md\n"
    }
   },
   "source": [
    "### 1. Calculate the average ratings\n",
    "Calculate the average ratings and the number of reviews (count) for the books in your new dataset(s)."
   ]
  },
  {
   "cell_type": "code",
   "execution_count": 12,
   "outputs": [],
   "source": [
    "import pandas as pd\n",
    "import numpy as np"
   ],
   "metadata": {
    "collapsed": false,
    "pycharm": {
     "name": "#%%\n"
    }
   }
  },
  {
   "cell_type": "code",
   "execution_count": 19,
   "outputs": [
    {
     "name": "stderr",
     "output_type": "stream",
     "text": [
      "/var/folders/x6/923dwt55237392mlk00827nh0000gn/T/ipykernel_73148/1622265827.py:3: DtypeWarning: Columns (4) have mixed types. Specify dtype option on import or set low_memory=False.\n",
      "  books = pd.read_csv('/Users/ekaterinamazur/PycharmProjects/INFOMPPM1/Week 01/data/books.csv')\n"
     ]
    }
   ],
   "source": [
    "#reading files\n",
    "ratings = pd.read_csv('/Users/ekaterinamazur/PycharmProjects/INFOMPPM1/Week 01/data/ratings.csv')\n",
    "books = pd.read_csv('/Users/ekaterinamazur/PycharmProjects/INFOMPPM1/Week 01/data/books.csv')\n",
    "users = pd.read_csv('/Users/ekaterinamazur/PycharmProjects/INFOMPPM1/Week 01/data/users.csv')"
   ],
   "metadata": {
    "collapsed": false,
    "pycharm": {
     "name": "#%%\n"
    }
   }
  },
  {
   "cell_type": "code",
   "execution_count": 23,
   "metadata": {
    "pycharm": {
     "name": "#%%\n"
    }
   },
   "outputs": [
    {
     "data": {
      "text/plain": "            ISBN  Book-Rating\n0     0439425220     9.846154\n1     0836220889     9.750000\n2     0836218221     9.750000\n3     0060256656     9.750000\n4     0743454529     9.714286\n...          ...          ...\n1045  8408043641     5.000000\n1046  0312288115     4.000000\n1047  0971880107     3.901639\n1048  3257227809     3.000000\n1049  8495618605     3.000000\n\n[1050 rows x 2 columns]",
      "text/html": "<div>\n<style scoped>\n    .dataframe tbody tr th:only-of-type {\n        vertical-align: middle;\n    }\n\n    .dataframe tbody tr th {\n        vertical-align: top;\n    }\n\n    .dataframe thead th {\n        text-align: right;\n    }\n</style>\n<table border=\"1\" class=\"dataframe\">\n  <thead>\n    <tr style=\"text-align: right;\">\n      <th></th>\n      <th>ISBN</th>\n      <th>Book-Rating</th>\n    </tr>\n  </thead>\n  <tbody>\n    <tr>\n      <th>0</th>\n      <td>0439425220</td>\n      <td>9.846154</td>\n    </tr>\n    <tr>\n      <th>1</th>\n      <td>0836220889</td>\n      <td>9.750000</td>\n    </tr>\n    <tr>\n      <th>2</th>\n      <td>0836218221</td>\n      <td>9.750000</td>\n    </tr>\n    <tr>\n      <th>3</th>\n      <td>0060256656</td>\n      <td>9.750000</td>\n    </tr>\n    <tr>\n      <th>4</th>\n      <td>0743454529</td>\n      <td>9.714286</td>\n    </tr>\n    <tr>\n      <th>...</th>\n      <td>...</td>\n      <td>...</td>\n    </tr>\n    <tr>\n      <th>1045</th>\n      <td>8408043641</td>\n      <td>5.000000</td>\n    </tr>\n    <tr>\n      <th>1046</th>\n      <td>0312288115</td>\n      <td>4.000000</td>\n    </tr>\n    <tr>\n      <th>1047</th>\n      <td>0971880107</td>\n      <td>3.901639</td>\n    </tr>\n    <tr>\n      <th>1048</th>\n      <td>3257227809</td>\n      <td>3.000000</td>\n    </tr>\n    <tr>\n      <th>1049</th>\n      <td>8495618605</td>\n      <td>3.000000</td>\n    </tr>\n  </tbody>\n</table>\n<p>1050 rows × 2 columns</p>\n</div>"
     },
     "execution_count": 23,
     "metadata": {},
     "output_type": "execute_result"
    }
   ],
   "source": [
    "# top-10 by average\n",
    "top_recommends_avg = ratings.groupby('ISBN').agg({'Book-Rating':np.average}).sort_values(by='Book-Rating', ascending=False).reset_index()\n",
    "top_recommends_avg_10 = top_recommends_avg.head(10)\n",
    "top_recommends_avg"
   ]
  },
  {
   "cell_type": "code",
   "execution_count": 33,
   "outputs": [
    {
     "data": {
      "text/plain": "            ISBN   average  count\n439   0439425220  9.846154     13\n950   0836220889  9.750000     12\n946   0836218221  9.750000     12\n9     0060256656  9.750000     12\n877   0743454529  9.714286     14\n...          ...       ...    ...\n1046  8408043641  5.000000      1\n119   0312288115  4.000000      8\n982   0971880107  3.901639     61\n1036  3257227809  3.000000      1\n1047  8495618605  3.000000      1\n\n[1050 rows x 3 columns]",
      "text/html": "<div>\n<style scoped>\n    .dataframe tbody tr th:only-of-type {\n        vertical-align: middle;\n    }\n\n    .dataframe tbody tr th {\n        vertical-align: top;\n    }\n\n    .dataframe thead th {\n        text-align: right;\n    }\n</style>\n<table border=\"1\" class=\"dataframe\">\n  <thead>\n    <tr style=\"text-align: right;\">\n      <th></th>\n      <th>ISBN</th>\n      <th>average</th>\n      <th>count</th>\n    </tr>\n  </thead>\n  <tbody>\n    <tr>\n      <th>439</th>\n      <td>0439425220</td>\n      <td>9.846154</td>\n      <td>13</td>\n    </tr>\n    <tr>\n      <th>950</th>\n      <td>0836220889</td>\n      <td>9.750000</td>\n      <td>12</td>\n    </tr>\n    <tr>\n      <th>946</th>\n      <td>0836218221</td>\n      <td>9.750000</td>\n      <td>12</td>\n    </tr>\n    <tr>\n      <th>9</th>\n      <td>0060256656</td>\n      <td>9.750000</td>\n      <td>12</td>\n    </tr>\n    <tr>\n      <th>877</th>\n      <td>0743454529</td>\n      <td>9.714286</td>\n      <td>14</td>\n    </tr>\n    <tr>\n      <th>...</th>\n      <td>...</td>\n      <td>...</td>\n      <td>...</td>\n    </tr>\n    <tr>\n      <th>1046</th>\n      <td>8408043641</td>\n      <td>5.000000</td>\n      <td>1</td>\n    </tr>\n    <tr>\n      <th>119</th>\n      <td>0312288115</td>\n      <td>4.000000</td>\n      <td>8</td>\n    </tr>\n    <tr>\n      <th>982</th>\n      <td>0971880107</td>\n      <td>3.901639</td>\n      <td>61</td>\n    </tr>\n    <tr>\n      <th>1036</th>\n      <td>3257227809</td>\n      <td>3.000000</td>\n      <td>1</td>\n    </tr>\n    <tr>\n      <th>1047</th>\n      <td>8495618605</td>\n      <td>3.000000</td>\n      <td>1</td>\n    </tr>\n  </tbody>\n</table>\n<p>1050 rows × 3 columns</p>\n</div>"
     },
     "execution_count": 33,
     "metadata": {},
     "output_type": "execute_result"
    }
   ],
   "source": [
    "#checking how many reviews has top-10\n",
    "# top_recommends_avg = ratings.groupby('ISBN').agg({'Book-Rating':[np.average, 'count']}).reset_index()\n",
    "# top_recommends_avg.columns = ['ISBN', 'average', 'count']\n",
    "# top_recommends_avg.sort_values(by='average', ascending=False)\n"
   ],
   "metadata": {
    "collapsed": false,
    "pycharm": {
     "name": "#%%\n"
    }
   }
  },
  {
   "attachments": {},
   "cell_type": "markdown",
   "metadata": {
    "pycharm": {
     "name": "#%% md\n"
    }
   },
   "source": [
    "### 2. Reflect on the recommendations\n",
    "Look at the rating average of the top 10 and how many users reviewed these books. Why would this be not a suitable method of recommendation?"
   ]
  },
  {
   "cell_type": "markdown",
   "source": [
    "As we can see above, in case of average, top-10 could be designed in a way, when you get not popular (aka with fewer reviews) books at top."
   ],
   "metadata": {
    "collapsed": false,
    "pycharm": {
     "name": "#%% md\n"
    }
   }
  },
  {
   "cell_type": "markdown",
   "metadata": {
    "pycharm": {
     "name": "#%% md\n"
    }
   },
   "source": [
    "### 3. Save the recommendations\n",
    "Nevertheless, select the top 10 of the ratings and save the recommendations as `recommendations-ratings-avg.csv` and replace the file to the app directory. Make certain the file has the following columns: `ISBN;mean`"
   ]
  },
  {
   "cell_type": "code",
   "execution_count": 18,
   "outputs": [],
   "source": [
    "top_recommends_avg_10.to_csv('recommendations-ratings-avg.csv', sep=';', index=False)"
   ],
   "metadata": {
    "collapsed": false,
    "pycharm": {
     "name": "#%%\n"
    }
   }
  }
 ],
 "metadata": {
  "interpreter": {
   "hash": "37c10f95d263926787ebf1d430d11186fc6b9bac835b8518e0b5006ed24f0c36"
  },
  "kernelspec": {
   "display_name": "Python 3.8.0 64-bit",
   "language": "python",
   "name": "python3"
  },
  "language_info": {
   "codemirror_mode": {
    "name": "ipython",
    "version": 3
   },
   "file_extension": ".py",
   "mimetype": "text/x-python",
   "name": "python",
   "nbconvert_exporter": "python",
   "pygments_lexer": "ipython3",
   "version": "3.8.0"
  },
  "orig_nbformat": 4
 },
 "nbformat": 4,
 "nbformat_minor": 2
}