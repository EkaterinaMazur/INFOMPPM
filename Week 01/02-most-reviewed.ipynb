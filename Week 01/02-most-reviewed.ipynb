{
 "cells": [
  {
   "attachments": {},
   "cell_type": "markdown",
   "metadata": {
    "pycharm": {
     "name": "#%% md\n"
    }
   },
   "source": [
    "# 📚 Recommendations based on most reviewed books\n",
    "You are going to create your first recommendations based most reviewed books. While this is far from personalised, it is still widely applied, and it does offer you to explore the Streamlit app in the app directory."
   ]
  },
  {
   "cell_type": "markdown",
   "metadata": {
    "pycharm": {
     "name": "#%% md\n"
    }
   },
   "source": [
    "### 1. Calculate the total reviews per book"
   ]
  },
  {
   "cell_type": "code",
   "execution_count": 1,
   "outputs": [],
   "source": [
    "import pandas as pd"
   ],
   "metadata": {
    "collapsed": false,
    "pycharm": {
     "name": "#%%\n"
    }
   }
  },
  {
   "cell_type": "code",
   "execution_count": 21,
   "metadata": {
    "pycharm": {
     "name": "#%%\n"
    }
   },
   "outputs": [
    {
     "data": {
      "text/plain": "   Unnamed: 0  User-ID        ISBN  Book-Rating\n0        1474   277427  0061009059            9\n1        1543   277427  0345413903           10\n2        1564   277427  0380702843            8\n3        1601   277427  0399501487            9\n4        1611   277427  0425116840            8",
      "text/html": "<div>\n<style scoped>\n    .dataframe tbody tr th:only-of-type {\n        vertical-align: middle;\n    }\n\n    .dataframe tbody tr th {\n        vertical-align: top;\n    }\n\n    .dataframe thead th {\n        text-align: right;\n    }\n</style>\n<table border=\"1\" class=\"dataframe\">\n  <thead>\n    <tr style=\"text-align: right;\">\n      <th></th>\n      <th>Unnamed: 0</th>\n      <th>User-ID</th>\n      <th>ISBN</th>\n      <th>Book-Rating</th>\n    </tr>\n  </thead>\n  <tbody>\n    <tr>\n      <th>0</th>\n      <td>1474</td>\n      <td>277427</td>\n      <td>0061009059</td>\n      <td>9</td>\n    </tr>\n    <tr>\n      <th>1</th>\n      <td>1543</td>\n      <td>277427</td>\n      <td>0345413903</td>\n      <td>10</td>\n    </tr>\n    <tr>\n      <th>2</th>\n      <td>1564</td>\n      <td>277427</td>\n      <td>0380702843</td>\n      <td>8</td>\n    </tr>\n    <tr>\n      <th>3</th>\n      <td>1601</td>\n      <td>277427</td>\n      <td>0399501487</td>\n      <td>9</td>\n    </tr>\n    <tr>\n      <th>4</th>\n      <td>1611</td>\n      <td>277427</td>\n      <td>0425116840</td>\n      <td>8</td>\n    </tr>\n  </tbody>\n</table>\n</div>"
     },
     "execution_count": 21,
     "metadata": {},
     "output_type": "execute_result"
    }
   ],
   "source": [
    "#reading the files\n",
    "ratings = pd.read_csv('/Users/ekaterinamazur/PycharmProjects/INFOMPPM1/Week 01/data/ratings.csv')\n",
    "books = pd.read_csv('/Users/ekaterinamazur/PycharmProjects/INFOMPPM1/Week 01/data/books.csv')\n",
    "users = pd.read_csv('/Users/ekaterinamazur/PycharmProjects/INFOMPPM1/Week 01/data/users.csv')"
   ]
  },
  {
   "cell_type": "code",
   "execution_count": 31,
   "outputs": [
    {
     "data": {
      "text/plain": "            ISBN  count\n143   0316666343   1748\n111   0312195516   1058\n518   0446672211    850\n141   0316601950    756\n586   0452282152    727\n...          ...    ...\n1021  1844262553      8\n1042  3442541751      7\n1046  8408043641      5\n1036  3257227809      3\n1047  8495618605      3\n\n[1050 rows x 2 columns]",
      "text/html": "<div>\n<style scoped>\n    .dataframe tbody tr th:only-of-type {\n        vertical-align: middle;\n    }\n\n    .dataframe tbody tr th {\n        vertical-align: top;\n    }\n\n    .dataframe thead th {\n        text-align: right;\n    }\n</style>\n<table border=\"1\" class=\"dataframe\">\n  <thead>\n    <tr style=\"text-align: right;\">\n      <th></th>\n      <th>ISBN</th>\n      <th>count</th>\n    </tr>\n  </thead>\n  <tbody>\n    <tr>\n      <th>143</th>\n      <td>0316666343</td>\n      <td>1748</td>\n    </tr>\n    <tr>\n      <th>111</th>\n      <td>0312195516</td>\n      <td>1058</td>\n    </tr>\n    <tr>\n      <th>518</th>\n      <td>0446672211</td>\n      <td>850</td>\n    </tr>\n    <tr>\n      <th>141</th>\n      <td>0316601950</td>\n      <td>756</td>\n    </tr>\n    <tr>\n      <th>586</th>\n      <td>0452282152</td>\n      <td>727</td>\n    </tr>\n    <tr>\n      <th>...</th>\n      <td>...</td>\n      <td>...</td>\n    </tr>\n    <tr>\n      <th>1021</th>\n      <td>1844262553</td>\n      <td>8</td>\n    </tr>\n    <tr>\n      <th>1042</th>\n      <td>3442541751</td>\n      <td>7</td>\n    </tr>\n    <tr>\n      <th>1046</th>\n      <td>8408043641</td>\n      <td>5</td>\n    </tr>\n    <tr>\n      <th>1036</th>\n      <td>3257227809</td>\n      <td>3</td>\n    </tr>\n    <tr>\n      <th>1047</th>\n      <td>8495618605</td>\n      <td>3</td>\n    </tr>\n  </tbody>\n</table>\n<p>1050 rows × 2 columns</p>\n</div>"
     },
     "execution_count": 31,
     "metadata": {},
     "output_type": "execute_result"
    }
   ],
   "source": [
    "#making top-10 by total\n",
    "top_recommends = ratings.groupby('ISBN').agg({'Book-Rating':'sum'}).reset_index().sort_values(by='Book-Rating', ascending=False)\n",
    "top_recommends = top_recommends.rename(columns={\"Book-Rating\":'count'})\n",
    "top_recommends"
   ],
   "metadata": {
    "collapsed": false,
    "pycharm": {
     "name": "#%%\n"
    }
   }
  },
  {
   "cell_type": "code",
   "execution_count": 35,
   "outputs": [
    {
     "data": {
      "text/plain": "            ISBN   sum  count\n143   0316666343  1748    212\n111   0312195516  1058    125\n518   0446672211   850    104\n141   0316601950   756     97\n586   0452282152   727     90\n...          ...   ...    ...\n1021  1844262553     8      1\n1042  3442541751     7      1\n1046  8408043641     5      1\n1036  3257227809     3      1\n1047  8495618605     3      1\n\n[1050 rows x 3 columns]",
      "text/html": "<div>\n<style scoped>\n    .dataframe tbody tr th:only-of-type {\n        vertical-align: middle;\n    }\n\n    .dataframe tbody tr th {\n        vertical-align: top;\n    }\n\n    .dataframe thead th {\n        text-align: right;\n    }\n</style>\n<table border=\"1\" class=\"dataframe\">\n  <thead>\n    <tr style=\"text-align: right;\">\n      <th></th>\n      <th>ISBN</th>\n      <th>sum</th>\n      <th>count</th>\n    </tr>\n  </thead>\n  <tbody>\n    <tr>\n      <th>143</th>\n      <td>0316666343</td>\n      <td>1748</td>\n      <td>212</td>\n    </tr>\n    <tr>\n      <th>111</th>\n      <td>0312195516</td>\n      <td>1058</td>\n      <td>125</td>\n    </tr>\n    <tr>\n      <th>518</th>\n      <td>0446672211</td>\n      <td>850</td>\n      <td>104</td>\n    </tr>\n    <tr>\n      <th>141</th>\n      <td>0316601950</td>\n      <td>756</td>\n      <td>97</td>\n    </tr>\n    <tr>\n      <th>586</th>\n      <td>0452282152</td>\n      <td>727</td>\n      <td>90</td>\n    </tr>\n    <tr>\n      <th>...</th>\n      <td>...</td>\n      <td>...</td>\n      <td>...</td>\n    </tr>\n    <tr>\n      <th>1021</th>\n      <td>1844262553</td>\n      <td>8</td>\n      <td>1</td>\n    </tr>\n    <tr>\n      <th>1042</th>\n      <td>3442541751</td>\n      <td>7</td>\n      <td>1</td>\n    </tr>\n    <tr>\n      <th>1046</th>\n      <td>8408043641</td>\n      <td>5</td>\n      <td>1</td>\n    </tr>\n    <tr>\n      <th>1036</th>\n      <td>3257227809</td>\n      <td>3</td>\n      <td>1</td>\n    </tr>\n    <tr>\n      <th>1047</th>\n      <td>8495618605</td>\n      <td>3</td>\n      <td>1</td>\n    </tr>\n  </tbody>\n</table>\n<p>1050 rows × 3 columns</p>\n</div>"
     },
     "execution_count": 35,
     "metadata": {},
     "output_type": "execute_result"
    }
   ],
   "source": [
    "#checking how many reveiws has top-10 by avg\n",
    "\n",
    "# top_recommends = ratings.groupby('ISBN').agg({'Book-Rating':['sum','count']}).reset_index()\n",
    "# # top_recommends = top_recommends.rename(columns={\"Book-Rating\":'count'})\n",
    "# top_recommends.columns = ['ISBN', 'sum', 'count']\n",
    "# top_recommends.sort_values(by='sum', ascending=False)"
   ],
   "metadata": {
    "collapsed": false,
    "pycharm": {
     "name": "#%%\n"
    }
   }
  },
  {
   "cell_type": "markdown",
   "metadata": {
    "pycharm": {
     "name": "#%% md\n"
    }
   },
   "source": [
    "### 2. Save the recommendations\n",
    "Select the top 10 recommendations based on amount of reviews, save the recommendations as `recommendations-most-reviewed.csv`, and replace the file in the `app/recommendations` directory. The app already has some recommendations which are in dire need of fixing. Make sure the file has the following columns: `ISBN;count`"
   ]
  },
  {
   "cell_type": "code",
   "execution_count": 18,
   "metadata": {
    "pycharm": {
     "name": "#%%\n"
    }
   },
   "outputs": [],
   "source": [
    "#saving to csv\n",
    "top_10_recommends = top_recommends.head(10)\n",
    "top_10_recommends.to_csv('recommendations-most-reviewed.csv', sep=';', index=False)"
   ]
  },
  {
   "cell_type": "markdown",
   "metadata": {
    "pycharm": {
     "name": "#%% md\n"
    }
   },
   "source": [
    "### 3. Run the Streamlit app\n",
    "Perhaps this is the first time you will run a Streamlit app. We provided you with boilerplate code to see your recommendations in a working interface. Over time you might decide to tweak a few buttons or add some metadata, so it is good to familiarise yourself with the [Streamlit documentation](https://docs.streamlit.io/library/api-reference). As a future data scientist creating quick proofs-of-concept is a necessity.\n",
    "\n",
    "Go to the app and start the app `streamlit run app.py`"
   ]
  }
 ],
 "metadata": {
  "interpreter": {
   "hash": "37c10f95d263926787ebf1d430d11186fc6b9bac835b8518e0b5006ed24f0c36"
  },
  "kernelspec": {
   "display_name": "Python 3.8.0 64-bit",
   "language": "python",
   "name": "python3"
  },
  "language_info": {
   "codemirror_mode": {
    "name": "ipython",
    "version": 3
   },
   "file_extension": ".py",
   "mimetype": "text/x-python",
   "name": "python",
   "nbconvert_exporter": "python",
   "pygments_lexer": "ipython3",
   "version": "3.8.0"
  },
  "orig_nbformat": 4
 },
 "nbformat": 4,
 "nbformat_minor": 2
}