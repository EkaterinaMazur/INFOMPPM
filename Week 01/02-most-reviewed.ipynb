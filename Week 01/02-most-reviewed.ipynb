{
 "cells": [
  {
   "attachments": {},
   "cell_type": "markdown",
   "metadata": {
    "pycharm": {
     "name": "#%% md\n"
    }
   },
   "source": [
    "# 📚 Recommendations based on most reviewed books\n",
    "You are going to create your first recommendations based most reviewed books. While this is far from personalised, it is still widely applied, and it does offer you to explore the Streamlit app in the app directory."
   ]
  },
  {
   "cell_type": "markdown",
   "metadata": {
    "pycharm": {
     "name": "#%% md\n"
    }
   },
   "source": [
    "### 1. Calculate the total reviews per book"
   ]
  },
  {
   "cell_type": "code",
   "execution_count": 1,
   "outputs": [],
   "source": [
    "import pandas as pd"
   ],
   "metadata": {
    "collapsed": false,
    "pycharm": {
     "name": "#%%\n"
    }
   }
  },
  {
   "cell_type": "code",
   "execution_count": 4,
   "metadata": {
    "pycharm": {
     "name": "#%%\n"
    }
   },
   "outputs": [
    {
     "data": {
      "text/plain": "   Unnamed: 0  User-ID        ISBN  Book-Rating\n0        1474   277427  0061009059            9\n1        1543   277427  0345413903           10\n2        1564   277427  0380702843            8\n3        1601   277427  0399501487            9\n4        1611   277427  0425116840            8",
      "text/html": "<div>\n<style scoped>\n    .dataframe tbody tr th:only-of-type {\n        vertical-align: middle;\n    }\n\n    .dataframe tbody tr th {\n        vertical-align: top;\n    }\n\n    .dataframe thead th {\n        text-align: right;\n    }\n</style>\n<table border=\"1\" class=\"dataframe\">\n  <thead>\n    <tr style=\"text-align: right;\">\n      <th></th>\n      <th>Unnamed: 0</th>\n      <th>User-ID</th>\n      <th>ISBN</th>\n      <th>Book-Rating</th>\n    </tr>\n  </thead>\n  <tbody>\n    <tr>\n      <th>0</th>\n      <td>1474</td>\n      <td>277427</td>\n      <td>0061009059</td>\n      <td>9</td>\n    </tr>\n    <tr>\n      <th>1</th>\n      <td>1543</td>\n      <td>277427</td>\n      <td>0345413903</td>\n      <td>10</td>\n    </tr>\n    <tr>\n      <th>2</th>\n      <td>1564</td>\n      <td>277427</td>\n      <td>0380702843</td>\n      <td>8</td>\n    </tr>\n    <tr>\n      <th>3</th>\n      <td>1601</td>\n      <td>277427</td>\n      <td>0399501487</td>\n      <td>9</td>\n    </tr>\n    <tr>\n      <th>4</th>\n      <td>1611</td>\n      <td>277427</td>\n      <td>0425116840</td>\n      <td>8</td>\n    </tr>\n  </tbody>\n</table>\n</div>"
     },
     "execution_count": 4,
     "metadata": {},
     "output_type": "execute_result"
    }
   ],
   "source": [
    "# code goes here\n",
    "ratings = pd.read_csv('/Users/ekaterinamazur/PycharmProjects/INFOMPPM1/Week 01/data/ratings.csv')\n",
    "ratings.head()"
   ]
  },
  {
   "cell_type": "code",
   "execution_count": 6,
   "outputs": [
    {
     "name": "stderr",
     "output_type": "stream",
     "text": [
      "/var/folders/x6/923dwt55237392mlk00827nh0000gn/T/ipykernel_72290/2921781231.py:1: DtypeWarning: Columns (4) have mixed types. Specify dtype option on import or set low_memory=False.\n",
      "  books = pd.read_csv('/Users/ekaterinamazur/PycharmProjects/INFOMPPM1/Week 01/data/books.csv')\n"
     ]
    },
    {
     "data": {
      "text/plain": "   Unnamed: 0        ISBN                                         Book-Title  \\\n0           1  0002005018                                       Clara Callan   \n1           2  0060973129                               Decision in Normandy   \n2           3  0374157065  Flu: The Story of the Great Influenza Pandemic...   \n3           4  0393045218                             The Mummies of Urumchi   \n4           7  0671870432                                    PLEADING GUILTY   \n\n            Book-Author Year-Of-Publication               Publisher  \\\n0  Richard Bruce Wright                2001   HarperFlamingo Canada   \n1          Carlo D'Este                1991         HarperPerennial   \n2      Gina Bari Kolata                1999    Farrar Straus Giroux   \n3       E. J. W. Barber                1999  W. W. Norton & Company   \n4           Scott Turow                1993              Audioworks   \n\n                                         Image-URL-S  \\\n0  http://images.amazon.com/images/P/0002005018.0...   \n1  http://images.amazon.com/images/P/0060973129.0...   \n2  http://images.amazon.com/images/P/0374157065.0...   \n3  http://images.amazon.com/images/P/0393045218.0...   \n4  http://images.amazon.com/images/P/0671870432.0...   \n\n                                         Image-URL-M  \\\n0  http://images.amazon.com/images/P/0002005018.0...   \n1  http://images.amazon.com/images/P/0060973129.0...   \n2  http://images.amazon.com/images/P/0374157065.0...   \n3  http://images.amazon.com/images/P/0393045218.0...   \n4  http://images.amazon.com/images/P/0671870432.0...   \n\n                                         Image-URL-L  \n0  http://images.amazon.com/images/P/0002005018.0...  \n1  http://images.amazon.com/images/P/0060973129.0...  \n2  http://images.amazon.com/images/P/0374157065.0...  \n3  http://images.amazon.com/images/P/0393045218.0...  \n4  http://images.amazon.com/images/P/0671870432.0...  ",
      "text/html": "<div>\n<style scoped>\n    .dataframe tbody tr th:only-of-type {\n        vertical-align: middle;\n    }\n\n    .dataframe tbody tr th {\n        vertical-align: top;\n    }\n\n    .dataframe thead th {\n        text-align: right;\n    }\n</style>\n<table border=\"1\" class=\"dataframe\">\n  <thead>\n    <tr style=\"text-align: right;\">\n      <th></th>\n      <th>Unnamed: 0</th>\n      <th>ISBN</th>\n      <th>Book-Title</th>\n      <th>Book-Author</th>\n      <th>Year-Of-Publication</th>\n      <th>Publisher</th>\n      <th>Image-URL-S</th>\n      <th>Image-URL-M</th>\n      <th>Image-URL-L</th>\n    </tr>\n  </thead>\n  <tbody>\n    <tr>\n      <th>0</th>\n      <td>1</td>\n      <td>0002005018</td>\n      <td>Clara Callan</td>\n      <td>Richard Bruce Wright</td>\n      <td>2001</td>\n      <td>HarperFlamingo Canada</td>\n      <td>http://images.amazon.com/images/P/0002005018.0...</td>\n      <td>http://images.amazon.com/images/P/0002005018.0...</td>\n      <td>http://images.amazon.com/images/P/0002005018.0...</td>\n    </tr>\n    <tr>\n      <th>1</th>\n      <td>2</td>\n      <td>0060973129</td>\n      <td>Decision in Normandy</td>\n      <td>Carlo D'Este</td>\n      <td>1991</td>\n      <td>HarperPerennial</td>\n      <td>http://images.amazon.com/images/P/0060973129.0...</td>\n      <td>http://images.amazon.com/images/P/0060973129.0...</td>\n      <td>http://images.amazon.com/images/P/0060973129.0...</td>\n    </tr>\n    <tr>\n      <th>2</th>\n      <td>3</td>\n      <td>0374157065</td>\n      <td>Flu: The Story of the Great Influenza Pandemic...</td>\n      <td>Gina Bari Kolata</td>\n      <td>1999</td>\n      <td>Farrar Straus Giroux</td>\n      <td>http://images.amazon.com/images/P/0374157065.0...</td>\n      <td>http://images.amazon.com/images/P/0374157065.0...</td>\n      <td>http://images.amazon.com/images/P/0374157065.0...</td>\n    </tr>\n    <tr>\n      <th>3</th>\n      <td>4</td>\n      <td>0393045218</td>\n      <td>The Mummies of Urumchi</td>\n      <td>E. J. W. Barber</td>\n      <td>1999</td>\n      <td>W. W. Norton &amp; Company</td>\n      <td>http://images.amazon.com/images/P/0393045218.0...</td>\n      <td>http://images.amazon.com/images/P/0393045218.0...</td>\n      <td>http://images.amazon.com/images/P/0393045218.0...</td>\n    </tr>\n    <tr>\n      <th>4</th>\n      <td>7</td>\n      <td>0671870432</td>\n      <td>PLEADING GUILTY</td>\n      <td>Scott Turow</td>\n      <td>1993</td>\n      <td>Audioworks</td>\n      <td>http://images.amazon.com/images/P/0671870432.0...</td>\n      <td>http://images.amazon.com/images/P/0671870432.0...</td>\n      <td>http://images.amazon.com/images/P/0671870432.0...</td>\n    </tr>\n  </tbody>\n</table>\n</div>"
     },
     "execution_count": 6,
     "metadata": {},
     "output_type": "execute_result"
    }
   ],
   "source": [
    "books = pd.read_csv('/Users/ekaterinamazur/PycharmProjects/INFOMPPM1/Week 01/data/books.csv')\n",
    "books.head()"
   ],
   "metadata": {
    "collapsed": false,
    "pycharm": {
     "name": "#%%\n"
    }
   }
  },
  {
   "cell_type": "code",
   "execution_count": 7,
   "outputs": [
    {
     "data": {
      "text/plain": "   Unnamed: 0  User-ID                            Location   Age\n0           0        1                  nyc, new york, usa   NaN\n1           1        2           stockton, california, usa  18.0\n2           2        3     moscow, yukon territory, russia   NaN\n3           3        4           porto, v.n.gaia, portugal  17.0\n4           4        5  farnborough, hants, united kingdom   NaN",
      "text/html": "<div>\n<style scoped>\n    .dataframe tbody tr th:only-of-type {\n        vertical-align: middle;\n    }\n\n    .dataframe tbody tr th {\n        vertical-align: top;\n    }\n\n    .dataframe thead th {\n        text-align: right;\n    }\n</style>\n<table border=\"1\" class=\"dataframe\">\n  <thead>\n    <tr style=\"text-align: right;\">\n      <th></th>\n      <th>Unnamed: 0</th>\n      <th>User-ID</th>\n      <th>Location</th>\n      <th>Age</th>\n    </tr>\n  </thead>\n  <tbody>\n    <tr>\n      <th>0</th>\n      <td>0</td>\n      <td>1</td>\n      <td>nyc, new york, usa</td>\n      <td>NaN</td>\n    </tr>\n    <tr>\n      <th>1</th>\n      <td>1</td>\n      <td>2</td>\n      <td>stockton, california, usa</td>\n      <td>18.0</td>\n    </tr>\n    <tr>\n      <th>2</th>\n      <td>2</td>\n      <td>3</td>\n      <td>moscow, yukon territory, russia</td>\n      <td>NaN</td>\n    </tr>\n    <tr>\n      <th>3</th>\n      <td>3</td>\n      <td>4</td>\n      <td>porto, v.n.gaia, portugal</td>\n      <td>17.0</td>\n    </tr>\n    <tr>\n      <th>4</th>\n      <td>4</td>\n      <td>5</td>\n      <td>farnborough, hants, united kingdom</td>\n      <td>NaN</td>\n    </tr>\n  </tbody>\n</table>\n</div>"
     },
     "execution_count": 7,
     "metadata": {},
     "output_type": "execute_result"
    }
   ],
   "source": [
    "users = pd.read_csv('/Users/ekaterinamazur/PycharmProjects/INFOMPPM1/Week 01/data/users.csv')\n",
    "users.head()"
   ],
   "metadata": {
    "collapsed": false,
    "pycharm": {
     "name": "#%%\n"
    }
   }
  },
  {
   "cell_type": "code",
   "execution_count": 17,
   "outputs": [],
   "source": [
    "top_recommends = ratings.groupby('ISBN').agg({'Book-Rating':'sum'}).sort_values(by='Book-Rating', ascending=False).reset_index()\n",
    "top_recommends = top_recommends.rename(columns={\"Book-Rating\":'count'})"
   ],
   "metadata": {
    "collapsed": false,
    "pycharm": {
     "name": "#%%\n"
    }
   }
  },
  {
   "cell_type": "markdown",
   "metadata": {
    "pycharm": {
     "name": "#%% md\n"
    }
   },
   "source": [
    "### 2. Save the recommendations\n",
    "Select the top 10 recommendations based on amount of reviews, save the recommendations as `recommendations-most-reviewed.csv`, and replace the file in the `app/recommendations` directory. The app already has some recommendations which are in dire need of fixing. Make sure the file has the following columns: `ISBN;count`"
   ]
  },
  {
   "cell_type": "code",
   "execution_count": 18,
   "metadata": {
    "pycharm": {
     "name": "#%%\n"
    }
   },
   "outputs": [],
   "source": [
    "top_10_recommends = top_recommends.head(10)\n",
    "\n",
    "top_10_recommends.to_csv('recommendations-most-reviewed.csv') #need to do separation by ; and check that file looks like now!"
   ]
  },
  {
   "cell_type": "markdown",
   "metadata": {
    "pycharm": {
     "name": "#%% md\n"
    }
   },
   "source": [
    "### 3. Run the Streamlit app\n",
    "Perhaps this is the first time you will run a Streamlit app. We provided you with boilerplate code to see your recommendations in a working interface. Over time you might decide to tweak a few buttons or add some metadata, so it is good to familiarise yourself with the [Streamlit documentation](https://docs.streamlit.io/library/api-reference). As a future data scientist creating quick proofs-of-concept is a necessity.\n",
    "\n",
    "Go to the app and start the app `streamlit run app.py`"
   ]
  }
 ],
 "metadata": {
  "interpreter": {
   "hash": "37c10f95d263926787ebf1d430d11186fc6b9bac835b8518e0b5006ed24f0c36"
  },
  "kernelspec": {
   "display_name": "Python 3.8.0 64-bit",
   "language": "python",
   "name": "python3"
  },
  "language_info": {
   "codemirror_mode": {
    "name": "ipython",
    "version": 3
   },
   "file_extension": ".py",
   "mimetype": "text/x-python",
   "name": "python",
   "nbconvert_exporter": "python",
   "pygments_lexer": "ipython3",
   "version": "3.8.0"
  },
  "orig_nbformat": 4
 },
 "nbformat": 4,
 "nbformat_minor": 2
}