{
 "cells": [
  {
   "attachments": {},
   "cell_type": "markdown",
   "metadata": {
    "pycharm": {
     "name": "#%% md\n"
    }
   },
   "source": [
    "# 📚 Recommendations based on weighted ratings\n",
    "\n",
    "With the limitations of calculating the average ratings you will now create recommendations based on the weightage average for individual books. Take a look at [Building a Recommendation System using weighted-average score](https://medium.com/@developeraritro/building-a-recommendation-system-using-weighted-hybrid-technique-75598b6be8ed) and implement this concept."
   ]
  },
  {
   "cell_type": "markdown",
   "metadata": {
    "pycharm": {
     "name": "#%% md\n"
    }
   },
   "source": [
    "### 1. Calculate Weightage Average for Individual books average rating\n",
    "Decide what value your mean vote acrosse the whole report (C) should be.\n",
    "\n"
   ]
  },
  {
   "cell_type": "code",
   "execution_count": 8,
   "outputs": [],
   "source": [
    "import pandas as pd\n",
    "import numpy as np"
   ],
   "metadata": {
    "collapsed": false,
    "pycharm": {
     "name": "#%%\n"
    }
   }
  },
  {
   "cell_type": "code",
   "execution_count": 16,
   "outputs": [
    {
     "name": "stderr",
     "output_type": "stream",
     "text": [
      "/var/folders/x6/923dwt55237392mlk00827nh0000gn/T/ipykernel_73849/692748840.py:2: DtypeWarning: Columns (4) have mixed types. Specify dtype option on import or set low_memory=False.\n",
      "  books = pd.read_csv('/Users/ekaterinamazur/PycharmProjects/INFOMPPM1/Week 01/data/books.csv')\n"
     ]
    }
   ],
   "source": [
    "#import datasets\n",
    "ratings = pd.read_csv('/Users/ekaterinamazur/PycharmProjects/INFOMPPM1/Week 01/data/ratings.csv')\n",
    "books = pd.read_csv('/Users/ekaterinamazur/PycharmProjects/INFOMPPM1/Week 01/data/books.csv')\n",
    "users = pd.read_csv('/Users/ekaterinamazur/PycharmProjects/INFOMPPM1/Week 01/data/users.csv')\n"
   ],
   "metadata": {
    "collapsed": false,
    "pycharm": {
     "name": "#%%\n"
    }
   }
  },
  {
   "cell_type": "code",
   "execution_count": 17,
   "outputs": [
    {
     "data": {
      "text/plain": "(17431, 4)"
     },
     "execution_count": 17,
     "metadata": {},
     "output_type": "execute_result"
    }
   ],
   "source": [
    "ratings.shape"
   ],
   "metadata": {
    "collapsed": false,
    "pycharm": {
     "name": "#%%\n"
    }
   }
  },
  {
   "cell_type": "code",
   "execution_count": 20,
   "outputs": [
    {
     "data": {
      "text/plain": "            ISBN  total_count\n0     0316666343          212\n1     0312195516          125\n2     0446672211          104\n3     0316601950           97\n4     0452282152           90\n...          ...          ...\n1045  3423202947            1\n1046  3423202327            1\n1047  3379015180            1\n1048  3257227809            1\n1049  8807813025            1\n\n[1050 rows x 2 columns]",
      "text/html": "<div>\n<style scoped>\n    .dataframe tbody tr th:only-of-type {\n        vertical-align: middle;\n    }\n\n    .dataframe tbody tr th {\n        vertical-align: top;\n    }\n\n    .dataframe thead th {\n        text-align: right;\n    }\n</style>\n<table border=\"1\" class=\"dataframe\">\n  <thead>\n    <tr style=\"text-align: right;\">\n      <th></th>\n      <th>ISBN</th>\n      <th>total_count</th>\n    </tr>\n  </thead>\n  <tbody>\n    <tr>\n      <th>0</th>\n      <td>0316666343</td>\n      <td>212</td>\n    </tr>\n    <tr>\n      <th>1</th>\n      <td>0312195516</td>\n      <td>125</td>\n    </tr>\n    <tr>\n      <th>2</th>\n      <td>0446672211</td>\n      <td>104</td>\n    </tr>\n    <tr>\n      <th>3</th>\n      <td>0316601950</td>\n      <td>97</td>\n    </tr>\n    <tr>\n      <th>4</th>\n      <td>0452282152</td>\n      <td>90</td>\n    </tr>\n    <tr>\n      <th>...</th>\n      <td>...</td>\n      <td>...</td>\n    </tr>\n    <tr>\n      <th>1045</th>\n      <td>3423202947</td>\n      <td>1</td>\n    </tr>\n    <tr>\n      <th>1046</th>\n      <td>3423202327</td>\n      <td>1</td>\n    </tr>\n    <tr>\n      <th>1047</th>\n      <td>3379015180</td>\n      <td>1</td>\n    </tr>\n    <tr>\n      <th>1048</th>\n      <td>3257227809</td>\n      <td>1</td>\n    </tr>\n    <tr>\n      <th>1049</th>\n      <td>8807813025</td>\n      <td>1</td>\n    </tr>\n  </tbody>\n</table>\n<p>1050 rows × 2 columns</p>\n</div>"
     },
     "execution_count": 20,
     "metadata": {},
     "output_type": "execute_result"
    }
   ],
   "source": [
    "#making all necessary values: total amount review\n",
    "v= ratings.groupby('ISBN').agg({'Book-Rating':'count'}).sort_values(by='Book-Rating', ascending=False).reset_index().rename(columns={'Book-Rating': 'total_count'})"
   ],
   "metadata": {
    "collapsed": false,
    "pycharm": {
     "name": "#%%\n"
    }
   }
  },
  {
   "cell_type": "code",
   "execution_count": 49,
   "outputs": [
    {
     "data": {
      "text/plain": "       Unnamed: 0  User-ID        ISBN  Book-Rating  total_count\n0            1474   277427  0061009059            9           63\n1            3382   278026  0061009059            8           63\n2           25744     6251  0061009059            7           63\n3           27407     6543  0061009059            8           63\n4           33326     7915  0061009059            8           63\n...           ...      ...         ...          ...          ...\n17426      777307   188022  0671016776           10            5\n17427      859152   207782  0671016776            8            5\n17428      863885   208829  0671016776            9            5\n17429      939034   227447  0671016776            6            5\n17430      999390   240035  0671016776            5            5\n\n[17431 rows x 5 columns]",
      "text/html": "<div>\n<style scoped>\n    .dataframe tbody tr th:only-of-type {\n        vertical-align: middle;\n    }\n\n    .dataframe tbody tr th {\n        vertical-align: top;\n    }\n\n    .dataframe thead th {\n        text-align: right;\n    }\n</style>\n<table border=\"1\" class=\"dataframe\">\n  <thead>\n    <tr style=\"text-align: right;\">\n      <th></th>\n      <th>Unnamed: 0</th>\n      <th>User-ID</th>\n      <th>ISBN</th>\n      <th>Book-Rating</th>\n      <th>total_count</th>\n    </tr>\n  </thead>\n  <tbody>\n    <tr>\n      <th>0</th>\n      <td>1474</td>\n      <td>277427</td>\n      <td>0061009059</td>\n      <td>9</td>\n      <td>63</td>\n    </tr>\n    <tr>\n      <th>1</th>\n      <td>3382</td>\n      <td>278026</td>\n      <td>0061009059</td>\n      <td>8</td>\n      <td>63</td>\n    </tr>\n    <tr>\n      <th>2</th>\n      <td>25744</td>\n      <td>6251</td>\n      <td>0061009059</td>\n      <td>7</td>\n      <td>63</td>\n    </tr>\n    <tr>\n      <th>3</th>\n      <td>27407</td>\n      <td>6543</td>\n      <td>0061009059</td>\n      <td>8</td>\n      <td>63</td>\n    </tr>\n    <tr>\n      <th>4</th>\n      <td>33326</td>\n      <td>7915</td>\n      <td>0061009059</td>\n      <td>8</td>\n      <td>63</td>\n    </tr>\n    <tr>\n      <th>...</th>\n      <td>...</td>\n      <td>...</td>\n      <td>...</td>\n      <td>...</td>\n      <td>...</td>\n    </tr>\n    <tr>\n      <th>17426</th>\n      <td>777307</td>\n      <td>188022</td>\n      <td>0671016776</td>\n      <td>10</td>\n      <td>5</td>\n    </tr>\n    <tr>\n      <th>17427</th>\n      <td>859152</td>\n      <td>207782</td>\n      <td>0671016776</td>\n      <td>8</td>\n      <td>5</td>\n    </tr>\n    <tr>\n      <th>17428</th>\n      <td>863885</td>\n      <td>208829</td>\n      <td>0671016776</td>\n      <td>9</td>\n      <td>5</td>\n    </tr>\n    <tr>\n      <th>17429</th>\n      <td>939034</td>\n      <td>227447</td>\n      <td>0671016776</td>\n      <td>6</td>\n      <td>5</td>\n    </tr>\n    <tr>\n      <th>17430</th>\n      <td>999390</td>\n      <td>240035</td>\n      <td>0671016776</td>\n      <td>5</td>\n      <td>5</td>\n    </tr>\n  </tbody>\n</table>\n<p>17431 rows × 5 columns</p>\n</div>"
     },
     "execution_count": 49,
     "metadata": {},
     "output_type": "execute_result"
    }
   ],
   "source": [
    "#make merged df with main dataset review\n",
    "merged_df = ratings.merge(v)"
   ],
   "metadata": {
    "collapsed": false,
    "pycharm": {
     "name": "#%%\n"
    }
   }
  },
  {
   "cell_type": "code",
   "execution_count": 50,
   "outputs": [
    {
     "data": {
      "text/plain": "       Unnamed: 0  User-ID        ISBN  Book-Rating  total_count    rating\n0            1474   277427  0061009059            9           63  8.142857\n1            3382   278026  0061009059            8           63  8.142857\n2           25744     6251  0061009059            7           63  8.142857\n3           27407     6543  0061009059            8           63  8.142857\n4           33326     7915  0061009059            8           63  8.142857\n...           ...      ...         ...          ...          ...       ...\n17426      777307   188022  0671016776           10            5  7.600000\n17427      859152   207782  0671016776            8            5  7.600000\n17428      863885   208829  0671016776            9            5  7.600000\n17429      939034   227447  0671016776            6            5  7.600000\n17430      999390   240035  0671016776            5            5  7.600000\n\n[17431 rows x 6 columns]",
      "text/html": "<div>\n<style scoped>\n    .dataframe tbody tr th:only-of-type {\n        vertical-align: middle;\n    }\n\n    .dataframe tbody tr th {\n        vertical-align: top;\n    }\n\n    .dataframe thead th {\n        text-align: right;\n    }\n</style>\n<table border=\"1\" class=\"dataframe\">\n  <thead>\n    <tr style=\"text-align: right;\">\n      <th></th>\n      <th>Unnamed: 0</th>\n      <th>User-ID</th>\n      <th>ISBN</th>\n      <th>Book-Rating</th>\n      <th>total_count</th>\n      <th>rating</th>\n    </tr>\n  </thead>\n  <tbody>\n    <tr>\n      <th>0</th>\n      <td>1474</td>\n      <td>277427</td>\n      <td>0061009059</td>\n      <td>9</td>\n      <td>63</td>\n      <td>8.142857</td>\n    </tr>\n    <tr>\n      <th>1</th>\n      <td>3382</td>\n      <td>278026</td>\n      <td>0061009059</td>\n      <td>8</td>\n      <td>63</td>\n      <td>8.142857</td>\n    </tr>\n    <tr>\n      <th>2</th>\n      <td>25744</td>\n      <td>6251</td>\n      <td>0061009059</td>\n      <td>7</td>\n      <td>63</td>\n      <td>8.142857</td>\n    </tr>\n    <tr>\n      <th>3</th>\n      <td>27407</td>\n      <td>6543</td>\n      <td>0061009059</td>\n      <td>8</td>\n      <td>63</td>\n      <td>8.142857</td>\n    </tr>\n    <tr>\n      <th>4</th>\n      <td>33326</td>\n      <td>7915</td>\n      <td>0061009059</td>\n      <td>8</td>\n      <td>63</td>\n      <td>8.142857</td>\n    </tr>\n    <tr>\n      <th>...</th>\n      <td>...</td>\n      <td>...</td>\n      <td>...</td>\n      <td>...</td>\n      <td>...</td>\n      <td>...</td>\n    </tr>\n    <tr>\n      <th>17426</th>\n      <td>777307</td>\n      <td>188022</td>\n      <td>0671016776</td>\n      <td>10</td>\n      <td>5</td>\n      <td>7.600000</td>\n    </tr>\n    <tr>\n      <th>17427</th>\n      <td>859152</td>\n      <td>207782</td>\n      <td>0671016776</td>\n      <td>8</td>\n      <td>5</td>\n      <td>7.600000</td>\n    </tr>\n    <tr>\n      <th>17428</th>\n      <td>863885</td>\n      <td>208829</td>\n      <td>0671016776</td>\n      <td>9</td>\n      <td>5</td>\n      <td>7.600000</td>\n    </tr>\n    <tr>\n      <th>17429</th>\n      <td>939034</td>\n      <td>227447</td>\n      <td>0671016776</td>\n      <td>6</td>\n      <td>5</td>\n      <td>7.600000</td>\n    </tr>\n    <tr>\n      <th>17430</th>\n      <td>999390</td>\n      <td>240035</td>\n      <td>0671016776</td>\n      <td>5</td>\n      <td>5</td>\n      <td>7.600000</td>\n    </tr>\n  </tbody>\n</table>\n<p>17431 rows × 6 columns</p>\n</div>"
     },
     "execution_count": 50,
     "metadata": {},
     "output_type": "execute_result"
    }
   ],
   "source": [
    "# making coolumn rating and merge again\n",
    "R=ratings.groupby('ISBN').agg({'Book-Rating':np.average}).sort_values(by='Book-Rating', ascending=False).reset_index().rename(columns={'Book-Rating': 'rating'})\n",
    "merged_df = merged_df.merge(R)\n",
    "merged_df"
   ],
   "metadata": {
    "collapsed": false,
    "pycharm": {
     "name": "#%%\n"
    }
   }
  },
  {
   "cell_type": "code",
   "execution_count": 52,
   "outputs": [],
   "source": [
    "C=merged_df['Book-Rating'].mean() # 7.88 #mean of rating\n",
    "m=merged_df['Book-Rating'].quantile(0.70) # 17 # quantile"
   ],
   "metadata": {
    "collapsed": false,
    "pycharm": {
     "name": "#%%\n"
    }
   }
  },
  {
   "cell_type": "code",
   "execution_count": 53,
   "outputs": [
    {
     "data": {
      "text/plain": "       Unnamed: 0  User-ID        ISBN  Book-Rating  total_count    rating  \\\n0            1474   277427  0061009059            9           63  8.142857   \n1            3382   278026  0061009059            8           63  8.142857   \n2           25744     6251  0061009059            7           63  8.142857   \n3           27407     6543  0061009059            8           63  8.142857   \n4           33326     7915  0061009059            8           63  8.142857   \n...           ...      ...         ...          ...          ...       ...   \n17426      777307   188022  0671016776           10            5  7.600000   \n17427      859152   207782  0671016776            8            5  7.600000   \n17428      863885   208829  0671016776            9            5  7.600000   \n17429      939034   227447  0671016776            6            5  7.600000   \n17430      999390   240035  0671016776            5            5  7.600000   \n\n         weight  \n0      8.115878  \n1      8.115878  \n2      8.115878  \n3      8.115878  \n4      8.115878  \n...         ...  \n17426  7.810231  \n17427  7.810231  \n17428  7.810231  \n17429  7.810231  \n17430  7.810231  \n\n[17431 rows x 7 columns]",
      "text/html": "<div>\n<style scoped>\n    .dataframe tbody tr th:only-of-type {\n        vertical-align: middle;\n    }\n\n    .dataframe tbody tr th {\n        vertical-align: top;\n    }\n\n    .dataframe thead th {\n        text-align: right;\n    }\n</style>\n<table border=\"1\" class=\"dataframe\">\n  <thead>\n    <tr style=\"text-align: right;\">\n      <th></th>\n      <th>Unnamed: 0</th>\n      <th>User-ID</th>\n      <th>ISBN</th>\n      <th>Book-Rating</th>\n      <th>total_count</th>\n      <th>rating</th>\n      <th>weight</th>\n    </tr>\n  </thead>\n  <tbody>\n    <tr>\n      <th>0</th>\n      <td>1474</td>\n      <td>277427</td>\n      <td>0061009059</td>\n      <td>9</td>\n      <td>63</td>\n      <td>8.142857</td>\n      <td>8.115878</td>\n    </tr>\n    <tr>\n      <th>1</th>\n      <td>3382</td>\n      <td>278026</td>\n      <td>0061009059</td>\n      <td>8</td>\n      <td>63</td>\n      <td>8.142857</td>\n      <td>8.115878</td>\n    </tr>\n    <tr>\n      <th>2</th>\n      <td>25744</td>\n      <td>6251</td>\n      <td>0061009059</td>\n      <td>7</td>\n      <td>63</td>\n      <td>8.142857</td>\n      <td>8.115878</td>\n    </tr>\n    <tr>\n      <th>3</th>\n      <td>27407</td>\n      <td>6543</td>\n      <td>0061009059</td>\n      <td>8</td>\n      <td>63</td>\n      <td>8.142857</td>\n      <td>8.115878</td>\n    </tr>\n    <tr>\n      <th>4</th>\n      <td>33326</td>\n      <td>7915</td>\n      <td>0061009059</td>\n      <td>8</td>\n      <td>63</td>\n      <td>8.142857</td>\n      <td>8.115878</td>\n    </tr>\n    <tr>\n      <th>...</th>\n      <td>...</td>\n      <td>...</td>\n      <td>...</td>\n      <td>...</td>\n      <td>...</td>\n      <td>...</td>\n      <td>...</td>\n    </tr>\n    <tr>\n      <th>17426</th>\n      <td>777307</td>\n      <td>188022</td>\n      <td>0671016776</td>\n      <td>10</td>\n      <td>5</td>\n      <td>7.600000</td>\n      <td>7.810231</td>\n    </tr>\n    <tr>\n      <th>17427</th>\n      <td>859152</td>\n      <td>207782</td>\n      <td>0671016776</td>\n      <td>8</td>\n      <td>5</td>\n      <td>7.600000</td>\n      <td>7.810231</td>\n    </tr>\n    <tr>\n      <th>17428</th>\n      <td>863885</td>\n      <td>208829</td>\n      <td>0671016776</td>\n      <td>9</td>\n      <td>5</td>\n      <td>7.600000</td>\n      <td>7.810231</td>\n    </tr>\n    <tr>\n      <th>17429</th>\n      <td>939034</td>\n      <td>227447</td>\n      <td>0671016776</td>\n      <td>6</td>\n      <td>5</td>\n      <td>7.600000</td>\n      <td>7.810231</td>\n    </tr>\n    <tr>\n      <th>17430</th>\n      <td>999390</td>\n      <td>240035</td>\n      <td>0671016776</td>\n      <td>5</td>\n      <td>5</td>\n      <td>7.600000</td>\n      <td>7.810231</td>\n    </tr>\n  </tbody>\n</table>\n<p>17431 rows × 7 columns</p>\n</div>"
     },
     "execution_count": 53,
     "metadata": {},
     "output_type": "execute_result"
    }
   ],
   "source": [
    "# final formula ((R*v)+ (C*m))/(v+m)\n",
    "# Calculate all the components based on the above formula\n",
    "merged_df['weight']=((merged_df.rating*merged_df.total_count)+ (C*m))/(merged_df.total_count+m)\n",
    "merged_df"
   ],
   "metadata": {
    "collapsed": false,
    "pycharm": {
     "name": "#%%\n"
    }
   }
  },
  {
   "cell_type": "code",
   "execution_count": 64,
   "outputs": [
    {
     "data": {
      "text/plain": "            ISBN    weight  Unnamed: 0  User-ID  Book-Rating  total_count  \\\n0     0020199600  8.130180           1        1            1            1   \n1     0020442203  8.241291           1        1            1            1   \n2     0028604199  7.912802           1        1            1            1   \n3     0060008032  7.494194           1        1            1            1   \n4     0060096195  8.080801           1        1            1            1   \n...          ...       ...         ...      ...          ...          ...   \n1045  3596259924  8.213022           1        1            1            1   \n1046  8408043641  7.634324           1        1            1            1   \n1047  8495618605  7.434324           1        1            1            1   \n1048  8806142100  7.940294           1        1            1            1   \n1049  8807813025  8.034324           1        1            1            1   \n\n      rating  \n0          1  \n1          1  \n2          1  \n3          1  \n4          1  \n...      ...  \n1045       1  \n1046       1  \n1047       1  \n1048       1  \n1049       1  \n\n[1050 rows x 7 columns]",
      "text/html": "<div>\n<style scoped>\n    .dataframe tbody tr th:only-of-type {\n        vertical-align: middle;\n    }\n\n    .dataframe tbody tr th {\n        vertical-align: top;\n    }\n\n    .dataframe thead th {\n        text-align: right;\n    }\n</style>\n<table border=\"1\" class=\"dataframe\">\n  <thead>\n    <tr style=\"text-align: right;\">\n      <th></th>\n      <th>ISBN</th>\n      <th>weight</th>\n      <th>Unnamed: 0</th>\n      <th>User-ID</th>\n      <th>Book-Rating</th>\n      <th>total_count</th>\n      <th>rating</th>\n    </tr>\n  </thead>\n  <tbody>\n    <tr>\n      <th>0</th>\n      <td>0020199600</td>\n      <td>8.130180</td>\n      <td>1</td>\n      <td>1</td>\n      <td>1</td>\n      <td>1</td>\n      <td>1</td>\n    </tr>\n    <tr>\n      <th>1</th>\n      <td>0020442203</td>\n      <td>8.241291</td>\n      <td>1</td>\n      <td>1</td>\n      <td>1</td>\n      <td>1</td>\n      <td>1</td>\n    </tr>\n    <tr>\n      <th>2</th>\n      <td>0028604199</td>\n      <td>7.912802</td>\n      <td>1</td>\n      <td>1</td>\n      <td>1</td>\n      <td>1</td>\n      <td>1</td>\n    </tr>\n    <tr>\n      <th>3</th>\n      <td>0060008032</td>\n      <td>7.494194</td>\n      <td>1</td>\n      <td>1</td>\n      <td>1</td>\n      <td>1</td>\n      <td>1</td>\n    </tr>\n    <tr>\n      <th>4</th>\n      <td>0060096195</td>\n      <td>8.080801</td>\n      <td>1</td>\n      <td>1</td>\n      <td>1</td>\n      <td>1</td>\n      <td>1</td>\n    </tr>\n    <tr>\n      <th>...</th>\n      <td>...</td>\n      <td>...</td>\n      <td>...</td>\n      <td>...</td>\n      <td>...</td>\n      <td>...</td>\n      <td>...</td>\n    </tr>\n    <tr>\n      <th>1045</th>\n      <td>3596259924</td>\n      <td>8.213022</td>\n      <td>1</td>\n      <td>1</td>\n      <td>1</td>\n      <td>1</td>\n      <td>1</td>\n    </tr>\n    <tr>\n      <th>1046</th>\n      <td>8408043641</td>\n      <td>7.634324</td>\n      <td>1</td>\n      <td>1</td>\n      <td>1</td>\n      <td>1</td>\n      <td>1</td>\n    </tr>\n    <tr>\n      <th>1047</th>\n      <td>8495618605</td>\n      <td>7.434324</td>\n      <td>1</td>\n      <td>1</td>\n      <td>1</td>\n      <td>1</td>\n      <td>1</td>\n    </tr>\n    <tr>\n      <th>1048</th>\n      <td>8806142100</td>\n      <td>7.940294</td>\n      <td>1</td>\n      <td>1</td>\n      <td>1</td>\n      <td>1</td>\n      <td>1</td>\n    </tr>\n    <tr>\n      <th>1049</th>\n      <td>8807813025</td>\n      <td>8.034324</td>\n      <td>1</td>\n      <td>1</td>\n      <td>1</td>\n      <td>1</td>\n      <td>1</td>\n    </tr>\n  </tbody>\n</table>\n<p>1050 rows × 7 columns</p>\n</div>"
     },
     "execution_count": 64,
     "metadata": {},
     "output_type": "execute_result"
    }
   ],
   "source": [
    "merged_df = merged_df.sort_values('weight', ascending=False).groupby(['ISBN','weight']).count()\n",
    "merged_df = merged_df.reset_index()\n",
    "merged_df #final dataset"
   ],
   "metadata": {
    "collapsed": false,
    "pycharm": {
     "name": "#%%\n"
    }
   }
  },
  {
   "cell_type": "code",
   "execution_count": 83,
   "outputs": [
    {
     "data": {
      "text/plain": "         ISBN    weight\n0  0020199600  8.130180\n1  0020442203  8.241291\n2  0028604199  7.912802\n3  0060008032  7.494194\n4  0060096195  8.080801\n5  0060173289  7.859355\n6  0060175966  8.106511\n7  0060194448  7.822883\n8  006019491X  8.232315\n9  0060256656  8.968726",
      "text/html": "<div>\n<style scoped>\n    .dataframe tbody tr th:only-of-type {\n        vertical-align: middle;\n    }\n\n    .dataframe tbody tr th {\n        vertical-align: top;\n    }\n\n    .dataframe thead th {\n        text-align: right;\n    }\n</style>\n<table border=\"1\" class=\"dataframe\">\n  <thead>\n    <tr style=\"text-align: right;\">\n      <th></th>\n      <th>ISBN</th>\n      <th>weight</th>\n    </tr>\n  </thead>\n  <tbody>\n    <tr>\n      <th>0</th>\n      <td>0020199600</td>\n      <td>8.130180</td>\n    </tr>\n    <tr>\n      <th>1</th>\n      <td>0020442203</td>\n      <td>8.241291</td>\n    </tr>\n    <tr>\n      <th>2</th>\n      <td>0028604199</td>\n      <td>7.912802</td>\n    </tr>\n    <tr>\n      <th>3</th>\n      <td>0060008032</td>\n      <td>7.494194</td>\n    </tr>\n    <tr>\n      <th>4</th>\n      <td>0060096195</td>\n      <td>8.080801</td>\n    </tr>\n    <tr>\n      <th>5</th>\n      <td>0060173289</td>\n      <td>7.859355</td>\n    </tr>\n    <tr>\n      <th>6</th>\n      <td>0060175966</td>\n      <td>8.106511</td>\n    </tr>\n    <tr>\n      <th>7</th>\n      <td>0060194448</td>\n      <td>7.822883</td>\n    </tr>\n    <tr>\n      <th>8</th>\n      <td>006019491X</td>\n      <td>8.232315</td>\n    </tr>\n    <tr>\n      <th>9</th>\n      <td>0060256656</td>\n      <td>8.968726</td>\n    </tr>\n  </tbody>\n</table>\n</div>"
     },
     "execution_count": 83,
     "metadata": {},
     "output_type": "execute_result"
    }
   ],
   "source": [
    "#make new dataset with necessary first 2 columns\n",
    "df_new = merged_df.iloc [:, [0, 1]]\n",
    "recommend_by_weight =  df_new.head(10)\n",
    "recommend_by_weight"
   ],
   "metadata": {
    "collapsed": false,
    "pycharm": {
     "name": "#%%\n"
    }
   }
  },
  {
   "cell_type": "code",
   "execution_count": 84,
   "outputs": [
    {
     "data": {
      "text/plain": "         ISBN    weight\n0  0020199600  8.130180\n1  0020442203  8.241291\n2  0028604199  7.912802\n3  0060008032  7.494194\n4  0060096195  8.080801\n5  0060173289  7.859355\n6  0060175966  8.106511\n7  0060194448  7.822883\n8  006019491X  8.232315\n9  0060256656  8.968726",
      "text/html": "<div>\n<style scoped>\n    .dataframe tbody tr th:only-of-type {\n        vertical-align: middle;\n    }\n\n    .dataframe tbody tr th {\n        vertical-align: top;\n    }\n\n    .dataframe thead th {\n        text-align: right;\n    }\n</style>\n<table border=\"1\" class=\"dataframe\">\n  <thead>\n    <tr style=\"text-align: right;\">\n      <th></th>\n      <th>ISBN</th>\n      <th>weight</th>\n    </tr>\n  </thead>\n  <tbody>\n    <tr>\n      <th>0</th>\n      <td>0020199600</td>\n      <td>8.130180</td>\n    </tr>\n    <tr>\n      <th>1</th>\n      <td>0020442203</td>\n      <td>8.241291</td>\n    </tr>\n    <tr>\n      <th>2</th>\n      <td>0028604199</td>\n      <td>7.912802</td>\n    </tr>\n    <tr>\n      <th>3</th>\n      <td>0060008032</td>\n      <td>7.494194</td>\n    </tr>\n    <tr>\n      <th>4</th>\n      <td>0060096195</td>\n      <td>8.080801</td>\n    </tr>\n    <tr>\n      <th>5</th>\n      <td>0060173289</td>\n      <td>7.859355</td>\n    </tr>\n    <tr>\n      <th>6</th>\n      <td>0060175966</td>\n      <td>8.106511</td>\n    </tr>\n    <tr>\n      <th>7</th>\n      <td>0060194448</td>\n      <td>7.822883</td>\n    </tr>\n    <tr>\n      <th>8</th>\n      <td>006019491X</td>\n      <td>8.232315</td>\n    </tr>\n    <tr>\n      <th>9</th>\n      <td>0060256656</td>\n      <td>8.968726</td>\n    </tr>\n  </tbody>\n</table>\n</div>"
     },
     "execution_count": 84,
     "metadata": {},
     "output_type": "execute_result"
    }
   ],
   "source": [
    "recommend_by_weight"
   ],
   "metadata": {
    "collapsed": false,
    "pycharm": {
     "name": "#%%\n"
    }
   }
  },
  {
   "cell_type": "markdown",
   "metadata": {
    "pycharm": {
     "name": "#%% md\n"
    }
   },
   "source": [
    "### 2. Save the recommendations\n",
    "Select the top 10 of the ratings based on weight and save the recommendations as `recommendations-ratings-weight.csv` and replace the file to the app directory. Make certain the file has the following columns: `ISBN;weight`"
   ]
  },
  {
   "cell_type": "code",
   "execution_count": 79,
   "metadata": {
    "pycharm": {
     "name": "#%%\n"
    }
   },
   "outputs": [],
   "source": [
    "# code goes here\n",
    "recommend_by_weight.to_csv('recommendations-ratings-weight.csv', sep=';', index=False)"
   ]
  },
  {
   "cell_type": "markdown",
   "metadata": {
    "pycharm": {
     "name": "#%% md\n"
    }
   },
   "source": [
    "### 3. Compare recommendations based on average rating and weighted ratings\n",
    "Do you see big differences when you look at the interface?\n",
    "\n",
    "All the recommendations looks different. And that's logical because we used different approaches to get top-10."
   ]
  }
 ],
 "metadata": {
  "interpreter": {
   "hash": "37c10f95d263926787ebf1d430d11186fc6b9bac835b8518e0b5006ed24f0c36"
  },
  "kernelspec": {
   "display_name": "Python 3.8.0 64-bit",
   "language": "python",
   "name": "python3"
  },
  "language_info": {
   "codemirror_mode": {
    "name": "ipython",
    "version": 3
   },
   "file_extension": ".py",
   "mimetype": "text/x-python",
   "name": "python",
   "nbconvert_exporter": "python",
   "pygments_lexer": "ipython3",
   "version": "3.8.0"
  },
  "orig_nbformat": 4
 },
 "nbformat": 4,
 "nbformat_minor": 2
}